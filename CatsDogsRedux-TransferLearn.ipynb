{
 "cells": [
  {
   "cell_type": "code",
   "execution_count": 1,
   "metadata": {},
   "outputs": [
    {
     "name": "stderr",
     "output_type": "stream",
     "text": [
      "/home/deeplearn/anaconda3/lib/python3.6/site-packages/h5py/__init__.py:34: FutureWarning: Conversion of the second argument of issubdtype from `float` to `np.floating` is deprecated. In future, it will be treated as `np.float64 == np.dtype(float).type`.\n",
      "  from ._conv import register_converters as _register_converters\n",
      "Using TensorFlow backend.\n"
     ]
    },
    {
     "data": {
      "text/plain": [
       "'2.0.8'"
      ]
     },
     "execution_count": 1,
     "metadata": {},
     "output_type": "execute_result"
    }
   ],
   "source": [
    "import tensorflow as tf\n",
    "sess = tf.Session(config=tf.ConfigProto(log_device_placement=True))\n",
    "import keras\n",
    "keras.__version__"
   ]
  },
  {
   "cell_type": "code",
   "execution_count": 2,
   "metadata": {
    "collapsed": true
   },
   "outputs": [],
   "source": [
    "from keras.applications import VGG16\n",
    "\n",
    "conv_base = VGG16(weights='imagenet',\n",
    "                  include_top=False,\n",
    "                  input_shape=(150, 150, 3))"
   ]
  },
  {
   "cell_type": "code",
   "execution_count": 3,
   "metadata": {},
   "outputs": [
    {
     "name": "stdout",
     "output_type": "stream",
     "text": [
      "_________________________________________________________________\n",
      "Layer (type)                 Output Shape              Param #   \n",
      "=================================================================\n",
      "input_1 (InputLayer)         (None, 150, 150, 3)       0         \n",
      "_________________________________________________________________\n",
      "block1_conv1 (Conv2D)        (None, 150, 150, 64)      1792      \n",
      "_________________________________________________________________\n",
      "block1_conv2 (Conv2D)        (None, 150, 150, 64)      36928     \n",
      "_________________________________________________________________\n",
      "block1_pool (MaxPooling2D)   (None, 75, 75, 64)        0         \n",
      "_________________________________________________________________\n",
      "block2_conv1 (Conv2D)        (None, 75, 75, 128)       73856     \n",
      "_________________________________________________________________\n",
      "block2_conv2 (Conv2D)        (None, 75, 75, 128)       147584    \n",
      "_________________________________________________________________\n",
      "block2_pool (MaxPooling2D)   (None, 37, 37, 128)       0         \n",
      "_________________________________________________________________\n",
      "block3_conv1 (Conv2D)        (None, 37, 37, 256)       295168    \n",
      "_________________________________________________________________\n",
      "block3_conv2 (Conv2D)        (None, 37, 37, 256)       590080    \n",
      "_________________________________________________________________\n",
      "block3_conv3 (Conv2D)        (None, 37, 37, 256)       590080    \n",
      "_________________________________________________________________\n",
      "block3_pool (MaxPooling2D)   (None, 18, 18, 256)       0         \n",
      "_________________________________________________________________\n",
      "block4_conv1 (Conv2D)        (None, 18, 18, 512)       1180160   \n",
      "_________________________________________________________________\n",
      "block4_conv2 (Conv2D)        (None, 18, 18, 512)       2359808   \n",
      "_________________________________________________________________\n",
      "block4_conv3 (Conv2D)        (None, 18, 18, 512)       2359808   \n",
      "_________________________________________________________________\n",
      "block4_pool (MaxPooling2D)   (None, 9, 9, 512)         0         \n",
      "_________________________________________________________________\n",
      "block5_conv1 (Conv2D)        (None, 9, 9, 512)         2359808   \n",
      "_________________________________________________________________\n",
      "block5_conv2 (Conv2D)        (None, 9, 9, 512)         2359808   \n",
      "_________________________________________________________________\n",
      "block5_conv3 (Conv2D)        (None, 9, 9, 512)         2359808   \n",
      "_________________________________________________________________\n",
      "block5_pool (MaxPooling2D)   (None, 4, 4, 512)         0         \n",
      "=================================================================\n",
      "Total params: 14,714,688\n",
      "Trainable params: 14,714,688\n",
      "Non-trainable params: 0\n",
      "_________________________________________________________________\n"
     ]
    }
   ],
   "source": [
    "conv_base.summary()"
   ]
  },
  {
   "cell_type": "code",
   "execution_count": 4,
   "metadata": {
    "collapsed": true
   },
   "outputs": [],
   "source": [
    "# # Create smaller dataset for Dogs vs. Cats\n",
    "# import os, shutil\n",
    "\n",
    "# original_dataset_dir = '/home/deeplearn/deepfun/keras/train/'\n",
    "\n",
    "# base_dir = '/home/deeplearn/deepfun/keras/data'\n",
    "# if not os.path.exists(base_dir):\n",
    "#     os.mkdir(base_dir)\n",
    "\n",
    "# # Create directories\n",
    "# train_dir = os.path.join(base_dir,'train')\n",
    "# if not os.path.exists(train_dir):\n",
    "#     os.mkdir(train_dir)\n",
    "# validation_dir = os.path.join(base_dir,'validation')\n",
    "# if not os.path.exists(validation_dir):\n",
    "#     os.mkdir(validation_dir)\n",
    "# test_dir = os.path.join(base_dir,'test')\n",
    "# if not os.path.exists(test_dir):\n",
    "#     os.mkdir(test_dir)\n",
    "\n",
    "# train_cats_dir = os.path.join(train_dir,'cats')\n",
    "# if not os.path.exists(train_cats_dir):\n",
    "#     os.mkdir(train_cats_dir)\n",
    "\n",
    "# train_dogs_dir = os.path.join(train_dir,'dogs')\n",
    "# if not os.path.exists(train_dogs_dir):\n",
    "#     os.mkdir(train_dogs_dir)\n",
    "\n",
    "# validation_cats_dir = os.path.join(validation_dir,'cats')\n",
    "# if not os.path.exists(validation_cats_dir):\n",
    "#     os.mkdir(validation_cats_dir)\n",
    "\n",
    "# validation_dogs_dir = os.path.join(validation_dir, 'dogs')\n",
    "# if not os.path.exists(validation_dogs_dir):\n",
    "#     os.mkdir(validation_dogs_dir)\n",
    "\n",
    "# test_cats_dir = os.path.join(test_dir, 'cats')     \n",
    "# if not os.path.exists(test_cats_dir):\n",
    "#     os.mkdir(test_cats_dir)\n",
    "\n",
    "# test_dogs_dir = os.path.join(test_dir, 'dogs')\n",
    "# if not os.path.exists(test_dogs_dir):\n",
    "#     os.mkdir(test_dogs_dir)\n",
    "\n",
    "# # Copy first 1000 cat images to train_cats_dir\n",
    "# fnames = ['cat.{}.jpg'.format(i) for i in range(0, 1000)]\n",
    "# for fname in fnames:\n",
    "#     src = os.path.join(original_dataset_dir, fname)\n",
    "#     dst = os.path.join(train_cats_dir, fname)\n",
    "#     shutil.copyfile(src, dst)\n",
    "    \n",
    "# # Copy next 500 cat images to validation_cats_dir\n",
    "# fnames = ['cat.{}.jpg'.format(i) for i in range(1001, 1501)]\n",
    "# for fname in fnames:\n",
    "#     src = os.path.join(original_dataset_dir, fname)\n",
    "#     dst = os.path.join(validation_cats_dir, fname)\n",
    "#     shutil.copyfile(src, dst)\n",
    "    \n",
    "# # Copy next 500 cat images to test_cats_dir\n",
    "# fnames = ['cat.{}.jpg'.format(i) for i in range(1502,2002)]\n",
    "# for fname in fnames:\n",
    "#     src = os.path.join(original_dataset_dir, fname)\n",
    "#     dst = os.path.join(test_cats_dir, fname)\n",
    "#     shutil.copyfile(src, dst)\n",
    "    \n",
    "# # Copy first 1000 dog images to train_dogs_dir\n",
    "# fnames = ['dog.{}.jpg'.format(i) for i in range(0,1000)]\n",
    "# for fname in fnames:\n",
    "#     src = os.path.join(original_dataset_dir, fname)\n",
    "#     dst = os.path.join(train_dogs_dir, fname)\n",
    "#     shutil.copyfile(src, dst)\n",
    "                                                \n",
    "# # Copy next 500 dog images to validation_dogs_dir\n",
    "# fnames = ['dog.{}.jpg'.format(i) for i in range(1001,1501)]\n",
    "# for fname in fnames:\n",
    "#     src = os.path.join(original_dataset_dir, fname)\n",
    "#     dst = os.path.join(validation_dogs_dir, fname)\n",
    "#     shutil.copyfile(src, dst)\n",
    "\n",
    "# # Copy next 500 dog images to test_dogs_dir\n",
    "# fnames = ['dog.{}.jpg'.format(i) for i in range(1502,2002)]\n",
    "# for fname in fnames:\n",
    "#     src = os.path.join(original_dataset_dir, fname)\n",
    "#     dst = os.path.join(test_dogs_dir, fname)\n",
    "#     shutil.copyfile(src, dst)\n",
    "                                                \n",
    "# # Sanity checks\n",
    "# print('total training cat images:', len(os.listdir(train_cats_dir)))\n",
    "# print('total training dog images:', len(os.listdir(train_dogs_dir)))\n",
    "# print('total validation cat images:', len(os.listdir(validation_cats_dir)))\n",
    "# print('total validation dog images:', len(os.listdir(validation_dogs_dir)))\n",
    "# print('total test cat images:', len(os.listdir(test_cats_dir)))\n",
    "# # print('total test dog images:', len(os.listdir(test_dogs_dir)))"
   ]
  },
  {
   "cell_type": "code",
   "execution_count": 5,
   "metadata": {},
   "outputs": [
    {
     "name": "stdout",
     "output_type": "stream",
     "text": [
      "Found 2000 images belonging to 2 classes.\n",
      "Found 1000 images belonging to 2 classes.\n",
      "Found 1000 images belonging to 2 classes.\n"
     ]
    }
   ],
   "source": [
    "import os\n",
    "import numpy as np\n",
    "from keras.preprocessing.image import ImageDataGenerator\n",
    "\n",
    "base_dir = '/home/deeplearn/deepfun/keras/data'\n",
    "\n",
    "train_dir = os.path.join(base_dir, 'train')\n",
    "validation_dir = os.path.join(base_dir, 'validation')\n",
    "test_dir = os.path.join(base_dir, 'test')\n",
    "\n",
    "datagen = ImageDataGenerator(rescale=1./255)\n",
    "batch_size = 20\n",
    "\n",
    "def extract_features(directory, sample_count):\n",
    "    features = np.zeros(shape=(sample_count, 4, 4, 512))\n",
    "    labels = np.zeros(shape=(sample_count))\n",
    "    generator = datagen.flow_from_directory(\n",
    "        directory,\n",
    "        target_size=(150, 150),\n",
    "        batch_size=batch_size,\n",
    "        class_mode='binary')\n",
    "    i = 0\n",
    "    for inputs_batch, labels_batch in generator:\n",
    "        features_batch = conv_base.predict(inputs_batch)\n",
    "        features[i * batch_size : (i + 1) * batch_size] = features_batch\n",
    "        labels[i * batch_size : (i + 1) * batch_size] = labels_batch\n",
    "        i += 1\n",
    "        if i * batch_size >= sample_count:\n",
    "            # Note that since generators yield data indefinitely in a loop,\n",
    "            # we must `break` after every image has been seen once.\n",
    "            break\n",
    "    return features, labels\n",
    "\n",
    "train_features, train_labels = extract_features(train_dir, 2000)\n",
    "validation_features, validation_labels = extract_features(validation_dir, 1000)\n",
    "test_features, test_labels = extract_features(test_dir, 1000)"
   ]
  },
  {
   "cell_type": "code",
   "execution_count": 6,
   "metadata": {
    "collapsed": true
   },
   "outputs": [],
   "source": [
    "train_features = np.reshape(train_features, (2000, 4 * 4 * 512))\n",
    "validation_features = np.reshape(validation_features, (1000, 4 * 4 * 512))\n",
    "test_features = np.reshape(test_features, (1000, 4 * 4 * 512))"
   ]
  },
  {
   "cell_type": "code",
   "execution_count": 7,
   "metadata": {},
   "outputs": [
    {
     "name": "stdout",
     "output_type": "stream",
     "text": [
      "WARNING:tensorflow:From /home/deeplearn/anaconda3/lib/python3.6/site-packages/keras/backend/tensorflow_backend.py:1290: calling reduce_mean (from tensorflow.python.ops.math_ops) with keep_dims is deprecated and will be removed in a future version.\n",
      "Instructions for updating:\n",
      "keep_dims is deprecated, use keepdims instead\n",
      "Train on 2000 samples, validate on 1000 samples\n",
      "Epoch 1/30\n",
      "2000/2000 [==============================] - 0s - loss: 0.6131 - acc: 0.6510 - val_loss: 0.4542 - val_acc: 0.8430\n",
      "Epoch 2/30\n",
      "2000/2000 [==============================] - 0s - loss: 0.4315 - acc: 0.8095 - val_loss: 0.3710 - val_acc: 0.8580\n",
      "Epoch 3/30\n",
      "2000/2000 [==============================] - 0s - loss: 0.3558 - acc: 0.8455 - val_loss: 0.3291 - val_acc: 0.8820\n",
      "Epoch 4/30\n",
      "2000/2000 [==============================] - 0s - loss: 0.3320 - acc: 0.8515 - val_loss: 0.3079 - val_acc: 0.8760\n",
      "Epoch 5/30\n",
      "2000/2000 [==============================] - 0s - loss: 0.2936 - acc: 0.8745 - val_loss: 0.2916 - val_acc: 0.8940\n",
      "Epoch 6/30\n",
      "2000/2000 [==============================] - 0s - loss: 0.2664 - acc: 0.8965 - val_loss: 0.2776 - val_acc: 0.8950\n",
      "Epoch 7/30\n",
      "2000/2000 [==============================] - 0s - loss: 0.2532 - acc: 0.9050 - val_loss: 0.2680 - val_acc: 0.8960\n",
      "Epoch 8/30\n",
      "2000/2000 [==============================] - 0s - loss: 0.2363 - acc: 0.9055 - val_loss: 0.2623 - val_acc: 0.8930\n",
      "Epoch 9/30\n",
      "2000/2000 [==============================] - 0s - loss: 0.2253 - acc: 0.9105 - val_loss: 0.2587 - val_acc: 0.9000\n",
      "Epoch 10/30\n",
      "2000/2000 [==============================] - ETA: 0s - loss: 0.2144 - acc: 0.919 - 0s - loss: 0.2159 - acc: 0.9200 - val_loss: 0.2547 - val_acc: 0.8980\n",
      "Epoch 11/30\n",
      "2000/2000 [==============================] - 0s - loss: 0.2065 - acc: 0.9245 - val_loss: 0.2495 - val_acc: 0.8990\n",
      "Epoch 12/30\n",
      "2000/2000 [==============================] - 0s - loss: 0.1891 - acc: 0.9335 - val_loss: 0.2600 - val_acc: 0.8920\n",
      "Epoch 13/30\n",
      "2000/2000 [==============================] - 0s - loss: 0.1798 - acc: 0.9340 - val_loss: 0.2445 - val_acc: 0.9070\n",
      "Epoch 14/30\n",
      "2000/2000 [==============================] - 0s - loss: 0.1749 - acc: 0.9395 - val_loss: 0.2465 - val_acc: 0.8990\n",
      "Epoch 15/30\n",
      "2000/2000 [==============================] - 0s - loss: 0.1648 - acc: 0.9430 - val_loss: 0.2514 - val_acc: 0.8940\n",
      "Epoch 16/30\n",
      "2000/2000 [==============================] - 0s - loss: 0.1653 - acc: 0.9410 - val_loss: 0.2404 - val_acc: 0.9000\n",
      "Epoch 17/30\n",
      "2000/2000 [==============================] - 0s - loss: 0.1544 - acc: 0.9470 - val_loss: 0.2390 - val_acc: 0.9090\n",
      "Epoch 18/30\n",
      "2000/2000 [==============================] - 0s - loss: 0.1514 - acc: 0.9490 - val_loss: 0.2380 - val_acc: 0.9030\n",
      "Epoch 19/30\n",
      "2000/2000 [==============================] - 0s - loss: 0.1444 - acc: 0.9550 - val_loss: 0.2475 - val_acc: 0.9000\n",
      "Epoch 20/30\n",
      "2000/2000 [==============================] - 0s - loss: 0.1413 - acc: 0.9490 - val_loss: 0.2385 - val_acc: 0.9060\n",
      "Epoch 21/30\n",
      "2000/2000 [==============================] - 0s - loss: 0.1295 - acc: 0.9545 - val_loss: 0.2365 - val_acc: 0.9100\n",
      "Epoch 22/30\n",
      "2000/2000 [==============================] - 0s - loss: 0.1276 - acc: 0.9530 - val_loss: 0.2382 - val_acc: 0.9060\n",
      "Epoch 23/30\n",
      "2000/2000 [==============================] - 0s - loss: 0.1225 - acc: 0.9610 - val_loss: 0.2368 - val_acc: 0.9060\n",
      "Epoch 24/30\n",
      "2000/2000 [==============================] - 0s - loss: 0.1153 - acc: 0.9630 - val_loss: 0.2371 - val_acc: 0.9090\n",
      "Epoch 25/30\n",
      "2000/2000 [==============================] - 0s - loss: 0.1103 - acc: 0.9645 - val_loss: 0.2431 - val_acc: 0.9020\n",
      "Epoch 26/30\n",
      "2000/2000 [==============================] - 0s - loss: 0.1060 - acc: 0.9660 - val_loss: 0.2376 - val_acc: 0.9070\n",
      "Epoch 27/30\n",
      "2000/2000 [==============================] - 0s - loss: 0.1063 - acc: 0.9640 - val_loss: 0.2429 - val_acc: 0.9030\n",
      "Epoch 28/30\n",
      "2000/2000 [==============================] - 0s - loss: 0.0983 - acc: 0.9705 - val_loss: 0.2457 - val_acc: 0.9030\n",
      "Epoch 29/30\n",
      "2000/2000 [==============================] - 0s - loss: 0.0948 - acc: 0.9710 - val_loss: 0.2415 - val_acc: 0.9050\n",
      "Epoch 30/30\n",
      "2000/2000 [==============================] - 0s - loss: 0.0961 - acc: 0.9695 - val_loss: 0.2409 - val_acc: 0.9040\n"
     ]
    }
   ],
   "source": [
    "from keras import models\n",
    "from keras import layers\n",
    "from keras import optimizers\n",
    "\n",
    "model = models.Sequential()\n",
    "model.add(layers.Dense(256, activation='relu', input_dim=4 * 4 * 512))\n",
    "model.add(layers.Dropout(0.5))\n",
    "model.add(layers.Dense(1, activation='sigmoid'))\n",
    "\n",
    "model.compile(optimizer=optimizers.RMSprop(lr=2e-5),\n",
    "              loss='binary_crossentropy',\n",
    "              metrics=['acc'])\n",
    "\n",
    "history = model.fit(train_features, train_labels,\n",
    "                    epochs=30,\n",
    "                    batch_size=20,\n",
    "                    validation_data=(validation_features, validation_labels))"
   ]
  },
  {
   "cell_type": "code",
   "execution_count": 8,
   "metadata": {},
   "outputs": [
    {
     "data": {
      "image/png": "[encoded data removed]",
      "text/plain": [
       "<Figure size 432x288 with 1 Axes>"
      ]
     },
     "metadata": {},
     "output_type": "display_data"
    },
    {
     "data": {
      "image/png": "[encoded data removed]",
      "text/plain": [
       "<Figure size 432x288 with 1 Axes>"
      ]
     },
     "metadata": {},
     "output_type": "display_data"
    }
   ],
   "source": [
    "import matplotlib.pyplot as plt\n",
    "\n",
    "acc = history.history['acc']\n",
    "val_acc = history.history['val_acc']\n",
    "loss = history.history['loss']\n",
    "val_loss = history.history['val_loss']\n",
    "\n",
    "epochs = range(len(acc))\n",
    "\n",
    "plt.plot(epochs, acc, 'bo', label='Training acc')\n",
    "plt.plot(epochs, val_acc, 'b', label='Validation acc')\n",
    "plt.title('Training and validation accuracy')\n",
    "plt.legend()\n",
    "\n",
    "plt.figure()\n",
    "\n",
    "plt.plot(epochs, loss, 'bo', label='Training loss')\n",
    "plt.plot(epochs, val_loss, 'b', label='Validation loss')\n",
    "plt.title('Training and validation loss')\n",
    "plt.legend()\n",
    "\n",
    "plt.show()"
   ]
  },
  {
   "cell_type": "code",
   "execution_count": 9,
   "metadata": {},
   "outputs": [
    {
     "name": "stdout",
     "output_type": "stream",
     "text": [
      "WARNING:tensorflow:From /home/deeplearn/anaconda3/lib/python3.6/site-packages/keras/backend/tensorflow_backend.py:1205: calling reduce_prod (from tensorflow.python.ops.math_ops) with keep_dims is deprecated and will be removed in a future version.\n",
      "Instructions for updating:\n",
      "keep_dims is deprecated, use keepdims instead\n"
     ]
    }
   ],
   "source": [
    "model = models.Sequential()\n",
    "model.add(conv_base)\n",
    "model.add(layers.Flatten())\n",
    "model.add(layers.Dense(256, activation='relu'))\n",
    "model.add(layers.Dense(1, activation='sigmoid'))"
   ]
  },
  {
   "cell_type": "code",
   "execution_count": 10,
   "metadata": {},
   "outputs": [
    {
     "name": "stdout",
     "output_type": "stream",
     "text": [
      "_________________________________________________________________\n",
      "Layer (type)                 Output Shape              Param #   \n",
      "=================================================================\n",
      "vgg16 (Model)                (None, 4, 4, 512)         14714688  \n",
      "_________________________________________________________________\n",
      "flatten_1 (Flatten)          (None, 8192)              0         \n",
      "_________________________________________________________________\n",
      "dense_3 (Dense)              (None, 256)               2097408   \n",
      "_________________________________________________________________\n",
      "dense_4 (Dense)              (None, 1)                 257       \n",
      "=================================================================\n",
      "Total params: 16,812,353\n",
      "Trainable params: 16,812,353\n",
      "Non-trainable params: 0\n",
      "_________________________________________________________________\n"
     ]
    }
   ],
   "source": [
    "model.summary()"
   ]
  },
  {
   "cell_type": "code",
   "execution_count": 11,
   "metadata": {},
   "outputs": [
    {
     "name": "stdout",
     "output_type": "stream",
     "text": [
      "These are the # of trainable weights before freezing the conv base:  30\n"
     ]
    }
   ],
   "source": [
    "# lets Freeze the pre-trained conv layer\n",
    "print('These are the # of trainable weights before freezing the conv base: ', len(model.trainable_weights))"
   ]
  },
  {
   "cell_type": "code",
   "execution_count": 12,
   "metadata": {
    "collapsed": true
   },
   "outputs": [],
   "source": [
    "conv_base.trainable = False"
   ]
  },
  {
   "cell_type": "code",
   "execution_count": 13,
   "metadata": {},
   "outputs": [
    {
     "name": "stdout",
     "output_type": "stream",
     "text": [
      "These are the # of trainable weights before freezing the conv base:  4\n"
     ]
    }
   ],
   "source": [
    "print('These are the # of trainable weights before freezing the conv base: ', len(model.trainable_weights))"
   ]
  },
  {
   "cell_type": "code",
   "execution_count": 14,
   "metadata": {},
   "outputs": [
    {
     "name": "stdout",
     "output_type": "stream",
     "text": [
      "Found 2000 images belonging to 2 classes.\n",
      "Found 1000 images belonging to 2 classes.\n",
      "Epoch 1/30\n",
      "16s - loss: 0.5271 - acc: 0.7280 - val_loss: 0.5908 - val_acc: 0.7270\n",
      "Epoch 2/30\n",
      "15s - loss: 0.3292 - acc: 0.8630 - val_loss: 0.1750 - val_acc: 0.9270\n",
      "Epoch 3/30\n",
      "15s - loss: 0.2515 - acc: 0.8925 - val_loss: 0.1206 - val_acc: 0.9480\n",
      "Epoch 4/30\n",
      "15s - loss: 0.1917 - acc: 0.9225 - val_loss: 0.1916 - val_acc: 0.9090\n",
      "Epoch 5/30\n",
      "15s - loss: 0.1660 - acc: 0.9325 - val_loss: 0.1176 - val_acc: 0.9510\n",
      "Epoch 6/30\n",
      "15s - loss: 0.1469 - acc: 0.9415 - val_loss: 0.1144 - val_acc: 0.9520\n",
      "Epoch 7/30\n",
      "15s - loss: 0.1220 - acc: 0.9515 - val_loss: 0.1198 - val_acc: 0.9510\n",
      "Epoch 8/30\n",
      "15s - loss: 0.1206 - acc: 0.9550 - val_loss: 0.0910 - val_acc: 0.9700\n",
      "Epoch 9/30\n",
      "15s - loss: 0.1261 - acc: 0.9535 - val_loss: 0.0794 - val_acc: 0.9750\n",
      "Epoch 10/30\n",
      "15s - loss: 0.0976 - acc: 0.9695 - val_loss: 0.1037 - val_acc: 0.9620\n",
      "Epoch 11/30\n",
      "15s - loss: 0.0875 - acc: 0.9630 - val_loss: 0.1136 - val_acc: 0.9600\n",
      "Epoch 12/30\n",
      "15s - loss: 0.0880 - acc: 0.9670 - val_loss: 0.1249 - val_acc: 0.9540\n",
      "Epoch 13/30\n",
      "15s - loss: 0.0977 - acc: 0.9630 - val_loss: 0.0997 - val_acc: 0.9640\n",
      "Epoch 14/30\n",
      "15s - loss: 0.0937 - acc: 0.9640 - val_loss: 0.1298 - val_acc: 0.9480\n",
      "Epoch 15/30\n",
      "15s - loss: 0.0654 - acc: 0.9755 - val_loss: 0.1153 - val_acc: 0.9620\n",
      "Epoch 16/30\n",
      "15s - loss: 0.0742 - acc: 0.9740 - val_loss: 0.1233 - val_acc: 0.9660\n",
      "Epoch 17/30\n",
      "15s - loss: 0.0754 - acc: 0.9710 - val_loss: 0.0781 - val_acc: 0.9710\n",
      "Epoch 18/30\n",
      "15s - loss: 0.0593 - acc: 0.9765 - val_loss: 0.0757 - val_acc: 0.9730\n",
      "Epoch 19/30\n",
      "15s - loss: 0.0651 - acc: 0.9735 - val_loss: 0.2052 - val_acc: 0.9500\n",
      "Epoch 20/30\n",
      "15s - loss: 0.0605 - acc: 0.9750 - val_loss: 0.0848 - val_acc: 0.9740\n",
      "Epoch 21/30\n",
      "15s - loss: 0.0579 - acc: 0.9820 - val_loss: 0.0851 - val_acc: 0.9690\n",
      "Epoch 22/30\n",
      "15s - loss: 0.0478 - acc: 0.9810 - val_loss: 0.0902 - val_acc: 0.9640\n",
      "Epoch 23/30\n",
      "15s - loss: 0.0603 - acc: 0.9815 - val_loss: 0.0786 - val_acc: 0.9690\n",
      "Epoch 24/30\n",
      "15s - loss: 0.0535 - acc: 0.9795 - val_loss: 0.1840 - val_acc: 0.9590\n",
      "Epoch 25/30\n",
      "15s - loss: 0.0532 - acc: 0.9810 - val_loss: 0.1277 - val_acc: 0.9640\n",
      "Epoch 26/30\n",
      "15s - loss: 0.0340 - acc: 0.9895 - val_loss: 0.2117 - val_acc: 0.9310\n",
      "Epoch 27/30\n",
      "15s - loss: 0.0394 - acc: 0.9850 - val_loss: 0.0820 - val_acc: 0.9750\n",
      "Epoch 28/30\n",
      "15s - loss: 0.0442 - acc: 0.9880 - val_loss: 0.1412 - val_acc: 0.9670\n",
      "Epoch 29/30\n",
      "15s - loss: 0.0406 - acc: 0.9875 - val_loss: 0.0818 - val_acc: 0.9730\n",
      "Epoch 30/30\n",
      "15s - loss: 0.0458 - acc: 0.9840 - val_loss: 0.0880 - val_acc: 0.9700\n"
     ]
    }
   ],
   "source": [
    "from keras.preprocessing.image import ImageDataGenerator\n",
    "\n",
    "train_datagen = ImageDataGenerator(\n",
    "      rescale=1./255,\n",
    "      rotation_range=40,\n",
    "      width_shift_range=0.2,\n",
    "      height_shift_range=0.2,\n",
    "      shear_range=0.2,\n",
    "      zoom_range=0.2,\n",
    "      horizontal_flip=True,\n",
    "      fill_mode='nearest')\n",
    "\n",
    "# Note that the validation data should not be augmented!\n",
    "test_datagen = ImageDataGenerator(rescale=1./255)\n",
    "\n",
    "train_generator = train_datagen.flow_from_directory(\n",
    "        # This is the target directory\n",
    "        train_dir,\n",
    "        # All images will be resized to 150x150\n",
    "        target_size=(150, 150),\n",
    "        batch_size=20,\n",
    "        # Since we use binary_crossentropy loss, we need binary labels\n",
    "        class_mode='binary')\n",
    "\n",
    "validation_generator = test_datagen.flow_from_directory(\n",
    "        validation_dir,\n",
    "        target_size=(150, 150),\n",
    "        batch_size=20,\n",
    "        class_mode='binary')\n",
    "\n",
    "model.compile(loss='binary_crossentropy',\n",
    "              optimizer=optimizers.RMSprop(lr=2e-5),\n",
    "              metrics=['acc'])\n",
    "\n",
    "history = model.fit_generator(\n",
    "train_generator,\n",
    "steps_per_epoch = 100,\n",
    "epochs = 30,\n",
    "validation_data = validation_generator,\n",
    "validation_steps = 50,\n",
    "verbose=2)"
   ]
  },
  {
   "cell_type": "code",
   "execution_count": 15,
   "metadata": {
    "collapsed": true
   },
   "outputs": [],
   "source": [
    "model.save('cats_dogs_mymodel_1.h5')"
   ]
  },
  {
   "cell_type": "code",
   "execution_count": 16,
   "metadata": {},
   "outputs": [
    {
     "data": {
      "image/png": "[encoded data removed]",
      "text/plain": [
       "<Figure size 432x288 with 1 Axes>"
      ]
     },
     "metadata": {},
     "output_type": "display_data"
    },
    {
     "data": {
      "image/png": "[encoded data removed]",
      "text/plain": [
       "<Figure size 432x288 with 1 Axes>"
      ]
     },
     "metadata": {},
     "output_type": "display_data"
    }
   ],
   "source": [
    "acc = history.history['acc']\n",
    "val_acc = history.history['val_acc']\n",
    "loss = history.history['loss']\n",
    "val_loss = history.history['val_loss']\n",
    "\n",
    "epochs = range(len(acc))\n",
    "\n",
    "plt.plot(epochs, acc, 'bo', label='Training acc')\n",
    "plt.plot(epochs, val_acc, 'b', label='Validation acc')\n",
    "plt.title('Training and validation accuracy')\n",
    "plt.legend()\n",
    "\n",
    "plt.figure()\n",
    "\n",
    "plt.plot(epochs, loss, 'bo', label='Training loss')\n",
    "plt.plot(epochs, val_loss, 'b', label='Validation loss')\n",
    "plt.title('Training and validation loss')\n",
    "plt.legend()\n",
    "\n",
    "plt.show()"
   ]
  },
  {
   "cell_type": "code",
   "execution_count": 17,
   "metadata": {},
   "outputs": [
    {
     "name": "stdout",
     "output_type": "stream",
     "text": [
      "_________________________________________________________________\n",
      "Layer (type)                 Output Shape              Param #   \n",
      "=================================================================\n",
      "input_1 (InputLayer)         (None, 150, 150, 3)       0         \n",
      "_________________________________________________________________\n",
      "block1_conv1 (Conv2D)        (None, 150, 150, 64)      1792      \n",
      "_________________________________________________________________\n",
      "block1_conv2 (Conv2D)        (None, 150, 150, 64)      36928     \n",
      "_________________________________________________________________\n",
      "block1_pool (MaxPooling2D)   (None, 75, 75, 64)        0         \n",
      "_________________________________________________________________\n",
      "block2_conv1 (Conv2D)        (None, 75, 75, 128)       73856     \n",
      "_________________________________________________________________\n",
      "block2_conv2 (Conv2D)        (None, 75, 75, 128)       147584    \n",
      "_________________________________________________________________\n",
      "block2_pool (MaxPooling2D)   (None, 37, 37, 128)       0         \n",
      "_________________________________________________________________\n",
      "block3_conv1 (Conv2D)        (None, 37, 37, 256)       295168    \n",
      "_________________________________________________________________\n",
      "block3_conv2 (Conv2D)        (None, 37, 37, 256)       590080    \n",
      "_________________________________________________________________\n",
      "block3_conv3 (Conv2D)        (None, 37, 37, 256)       590080    \n",
      "_________________________________________________________________\n",
      "block3_pool (MaxPooling2D)   (None, 18, 18, 256)       0         \n",
      "_________________________________________________________________\n",
      "block4_conv1 (Conv2D)        (None, 18, 18, 512)       1180160   \n",
      "_________________________________________________________________\n",
      "block4_conv2 (Conv2D)        (None, 18, 18, 512)       2359808   \n",
      "_________________________________________________________________\n",
      "block4_conv3 (Conv2D)        (None, 18, 18, 512)       2359808   \n",
      "_________________________________________________________________\n",
      "block4_pool (MaxPooling2D)   (None, 9, 9, 512)         0         \n",
      "_________________________________________________________________\n",
      "block5_conv1 (Conv2D)        (None, 9, 9, 512)         2359808   \n",
      "_________________________________________________________________\n",
      "block5_conv2 (Conv2D)        (None, 9, 9, 512)         2359808   \n",
      "_________________________________________________________________\n",
      "block5_conv3 (Conv2D)        (None, 9, 9, 512)         2359808   \n",
      "_________________________________________________________________\n",
      "block5_pool (MaxPooling2D)   (None, 4, 4, 512)         0         \n",
      "=================================================================\n",
      "Total params: 14,714,688\n",
      "Trainable params: 0\n",
      "Non-trainable params: 14,714,688\n",
      "_________________________________________________________________\n"
     ]
    }
   ],
   "source": [
    "# Fine Tuning\n",
    "conv_base.summary()"
   ]
  },
  {
   "cell_type": "code",
   "execution_count": 18,
   "metadata": {
    "collapsed": true
   },
   "outputs": [],
   "source": [
    "conv_base.trainable = True\n",
    "\n",
    "set_trainable = False\n",
    "\n",
    "for layer in conv_base.layers:\n",
    "    if layer.name == 'block5_conv1':\n",
    "        set_trainable = True\n",
    "    if set_trainable:\n",
    "        layer.trainable = True\n",
    "    else:\n",
    "        layer.trainable = False\n"
   ]
  },
  {
   "cell_type": "code",
   "execution_count": 20,
   "metadata": {},
   "outputs": [
    {
     "name": "stdout",
     "output_type": "stream",
     "text": [
      "Epoch 1/100\n",
      "100/100 [==============================] - 9s - loss: 0.0140 - acc: 0.9955 - val_loss: 0.1094 - val_acc: 0.9730\n",
      "Epoch 2/100\n",
      "100/100 [==============================] - 8s - loss: 0.0156 - acc: 0.9950 - val_loss: 0.1133 - val_acc: 0.9610\n",
      "Epoch 3/100\n",
      "100/100 [==============================] - 8s - loss: 0.0208 - acc: 0.9935 - val_loss: 0.1044 - val_acc: 0.9690\n",
      "Epoch 4/100\n",
      "100/100 [==============================] - 8s - loss: 0.0114 - acc: 0.9970 - val_loss: 0.0821 - val_acc: 0.9680\n",
      "Epoch 5/100\n",
      "100/100 [==============================] - 8s - loss: 0.0147 - acc: 0.9965 - val_loss: 0.0722 - val_acc: 0.9800\n",
      "Epoch 6/100\n",
      "100/100 [==============================] - 8s - loss: 0.0078 - acc: 0.9990 - val_loss: 0.1289 - val_acc: 0.9680\n",
      "Epoch 7/100\n",
      "100/100 [==============================] - 8s - loss: 0.0100 - acc: 0.9950 - val_loss: 0.1034 - val_acc: 0.9720\n",
      "Epoch 8/100\n",
      "100/100 [==============================] - 8s - loss: 0.0088 - acc: 0.9975 - val_loss: 0.0665 - val_acc: 0.9820\n",
      "Epoch 9/100\n",
      "100/100 [==============================] - 8s - loss: 0.0101 - acc: 0.9960 - val_loss: 0.1047 - val_acc: 0.9730\n",
      "Epoch 10/100\n",
      "100/100 [==============================] - 8s - loss: 0.0119 - acc: 0.9980 - val_loss: 0.0876 - val_acc: 0.9760\n",
      "Epoch 11/100\n",
      "100/100 [==============================] - 8s - loss: 0.0149 - acc: 0.9960 - val_loss: 0.0962 - val_acc: 0.9730\n",
      "Epoch 12/100\n",
      "100/100 [==============================] - 8s - loss: 0.0099 - acc: 0.9975 - val_loss: 0.0957 - val_acc: 0.9700\n",
      "Epoch 13/100\n",
      "100/100 [==============================] - 8s - loss: 0.0113 - acc: 0.9975 - val_loss: 0.1069 - val_acc: 0.9690\n",
      "Epoch 14/100\n",
      "100/100 [==============================] - 8s - loss: 0.0082 - acc: 0.9980 - val_loss: 0.0964 - val_acc: 0.9730\n",
      "Epoch 15/100\n",
      "100/100 [==============================] - 8s - loss: 0.0078 - acc: 0.9975 - val_loss: 0.1031 - val_acc: 0.9720\n",
      "Epoch 16/100\n",
      "100/100 [==============================] - 8s - loss: 0.0081 - acc: 0.9980 - val_loss: 0.0860 - val_acc: 0.9800\n",
      "Epoch 17/100\n",
      "100/100 [==============================] - 8s - loss: 0.0022 - acc: 1.0000 - val_loss: 0.0761 - val_acc: 0.9800\n",
      "Epoch 18/100\n",
      "100/100 [==============================] - 8s - loss: 0.0049 - acc: 0.9990 - val_loss: 0.1064 - val_acc: 0.9740\n",
      "Epoch 19/100\n",
      "100/100 [==============================] - 8s - loss: 0.0090 - acc: 0.9970 - val_loss: 0.1172 - val_acc: 0.9680\n",
      "Epoch 20/100\n",
      "100/100 [==============================] - 8s - loss: 0.0122 - acc: 0.9965 - val_loss: 0.0948 - val_acc: 0.9720\n",
      "Epoch 21/100\n",
      "100/100 [==============================] - 8s - loss: 0.0155 - acc: 0.9965 - val_loss: 0.1419 - val_acc: 0.9700\n",
      "Epoch 22/100\n",
      "100/100 [==============================] - 8s - loss: 0.0101 - acc: 0.9960 - val_loss: 0.1068 - val_acc: 0.9780\n",
      "Epoch 23/100\n",
      "100/100 [==============================] - 8s - loss: 0.0081 - acc: 0.9970 - val_loss: 0.1309 - val_acc: 0.9670\n",
      "Epoch 24/100\n",
      "100/100 [==============================] - 8s - loss: 0.0082 - acc: 0.9965 - val_loss: 0.1314 - val_acc: 0.9680\n",
      "Epoch 25/100\n",
      "100/100 [==============================] - 8s - loss: 0.0051 - acc: 0.9980 - val_loss: 0.1128 - val_acc: 0.9670\n",
      "Epoch 26/100\n",
      "100/100 [==============================] - 8s - loss: 0.0072 - acc: 0.9975 - val_loss: 0.1057 - val_acc: 0.9750\n",
      "Epoch 27/100\n",
      "100/100 [==============================] - 8s - loss: 0.0071 - acc: 0.9975 - val_loss: 0.1196 - val_acc: 0.9760\n",
      "Epoch 28/100\n",
      "100/100 [==============================] - 8s - loss: 0.0129 - acc: 0.9960 - val_loss: 0.0890 - val_acc: 0.9720\n",
      "Epoch 29/100\n",
      "100/100 [==============================] - 8s - loss: 0.0048 - acc: 0.9985 - val_loss: 0.1010 - val_acc: 0.9780\n",
      "Epoch 30/100\n",
      "100/100 [==============================] - 8s - loss: 0.0039 - acc: 0.9985 - val_loss: 0.1156 - val_acc: 0.9740\n",
      "Epoch 31/100\n",
      "100/100 [==============================] - 8s - loss: 0.0015 - acc: 1.0000 - val_loss: 0.1043 - val_acc: 0.9760\n",
      "Epoch 32/100\n",
      "100/100 [==============================] - 8s - loss: 0.0068 - acc: 0.9975 - val_loss: 0.0994 - val_acc: 0.9760\n",
      "Epoch 33/100\n",
      "100/100 [==============================] - 8s - loss: 0.0043 - acc: 0.9990 - val_loss: 0.1081 - val_acc: 0.9760\n",
      "Epoch 34/100\n",
      "100/100 [==============================] - 8s - loss: 0.0024 - acc: 0.9990 - val_loss: 0.1039 - val_acc: 0.9680\n",
      "Epoch 35/100\n",
      "100/100 [==============================] - 8s - loss: 0.0079 - acc: 0.9965 - val_loss: 0.1594 - val_acc: 0.9730\n",
      "Epoch 36/100\n",
      "100/100 [==============================] - 8s - loss: 0.0027 - acc: 0.9990 - val_loss: 0.1269 - val_acc: 0.9730\n",
      "Epoch 37/100\n",
      "100/100 [==============================] - 8s - loss: 0.0062 - acc: 0.9970 - val_loss: 0.0809 - val_acc: 0.9770\n",
      "Epoch 38/100\n",
      "100/100 [==============================] - 8s - loss: 0.0096 - acc: 0.9975 - val_loss: 0.1658 - val_acc: 0.9600\n",
      "Epoch 39/100\n",
      "100/100 [==============================] - 8s - loss: 0.0088 - acc: 0.9965 - val_loss: 0.1121 - val_acc: 0.9740\n",
      "Epoch 40/100\n",
      "100/100 [==============================] - 8s - loss: 0.0056 - acc: 0.9980 - val_loss: 0.1402 - val_acc: 0.9720\n",
      "Epoch 41/100\n",
      "100/100 [==============================] - 8s - loss: 0.0079 - acc: 0.9970 - val_loss: 0.1042 - val_acc: 0.9770\n",
      "Epoch 42/100\n",
      "100/100 [==============================] - 8s - loss: 0.0118 - acc: 0.9975 - val_loss: 0.1052 - val_acc: 0.9690\n",
      "Epoch 43/100\n",
      "100/100 [==============================] - 8s - loss: 0.0071 - acc: 0.9975 - val_loss: 0.1127 - val_acc: 0.9710\n",
      "Epoch 44/100\n",
      "100/100 [==============================] - 8s - loss: 0.0070 - acc: 0.9985 - val_loss: 0.0812 - val_acc: 0.9740\n",
      "Epoch 45/100\n",
      "100/100 [==============================] - 8s - loss: 0.0064 - acc: 0.9975 - val_loss: 0.0834 - val_acc: 0.9730\n",
      "Epoch 46/100\n",
      "100/100 [==============================] - 8s - loss: 0.0058 - acc: 0.9980 - val_loss: 0.1078 - val_acc: 0.9730\n",
      "Epoch 47/100\n",
      "100/100 [==============================] - 8s - loss: 0.0014 - acc: 0.9995 - val_loss: 0.1330 - val_acc: 0.9690\n",
      "Epoch 48/100\n",
      "100/100 [==============================] - 8s - loss: 0.0083 - acc: 0.9975 - val_loss: 0.0915 - val_acc: 0.9770\n",
      "Epoch 49/100\n",
      "100/100 [==============================] - 8s - loss: 0.0018 - acc: 0.9990 - val_loss: 0.0903 - val_acc: 0.9840\n",
      "Epoch 50/100\n",
      "100/100 [==============================] - 8s - loss: 0.0072 - acc: 0.9970 - val_loss: 0.0913 - val_acc: 0.9820\n",
      "Epoch 51/100\n",
      "100/100 [==============================] - 8s - loss: 0.0064 - acc: 0.9980 - val_loss: 0.1058 - val_acc: 0.9770\n",
      "Epoch 52/100\n",
      "100/100 [==============================] - 8s - loss: 0.0142 - acc: 0.9960 - val_loss: 0.0996 - val_acc: 0.9700\n",
      "Epoch 53/100\n",
      "100/100 [==============================] - 8s - loss: 0.0117 - acc: 0.9965 - val_loss: 0.1276 - val_acc: 0.9670\n",
      "Epoch 54/100\n",
      "100/100 [==============================] - 8s - loss: 0.0038 - acc: 0.9985 - val_loss: 0.1419 - val_acc: 0.9700\n",
      "Epoch 55/100\n",
      "100/100 [==============================] - 8s - loss: 0.0061 - acc: 0.9980 - val_loss: 0.0793 - val_acc: 0.9780\n",
      "Epoch 56/100\n",
      "100/100 [==============================] - 8s - loss: 0.0074 - acc: 0.9970 - val_loss: 0.0881 - val_acc: 0.9740\n",
      "Epoch 57/100\n",
      "100/100 [==============================] - 8s - loss: 0.0029 - acc: 0.9990 - val_loss: 0.0913 - val_acc: 0.9770\n",
      "Epoch 58/100\n",
      "100/100 [==============================] - 8s - loss: 0.0065 - acc: 0.9985 - val_loss: 0.1104 - val_acc: 0.9740\n",
      "Epoch 59/100\n",
      "100/100 [==============================] - 8s - loss: 0.0045 - acc: 0.9980 - val_loss: 0.1221 - val_acc: 0.9740\n",
      "Epoch 60/100\n",
      "100/100 [==============================] - 8s - loss: 0.0056 - acc: 0.9975 - val_loss: 0.1360 - val_acc: 0.9700\n",
      "Epoch 61/100\n",
      "100/100 [==============================] - 8s - loss: 0.0029 - acc: 0.9995 - val_loss: 0.0992 - val_acc: 0.9750\n",
      "Epoch 62/100\n",
      "100/100 [==============================] - 8s - loss: 0.0019 - acc: 0.9995 - val_loss: 0.0983 - val_acc: 0.9780\n",
      "Epoch 63/100\n",
      "100/100 [==============================] - 8s - loss: 0.0065 - acc: 0.9985 - val_loss: 0.1062 - val_acc: 0.9790\n",
      "Epoch 64/100\n",
      "100/100 [==============================] - 8s - loss: 0.0027 - acc: 0.9995 - val_loss: 0.0811 - val_acc: 0.9810\n",
      "Epoch 65/100\n",
      "100/100 [==============================] - 8s - loss: 0.0018 - acc: 0.9995 - val_loss: 0.1309 - val_acc: 0.9740\n",
      "Epoch 66/100\n",
      "100/100 [==============================] - 8s - loss: 0.0024 - acc: 0.9995 - val_loss: 0.1168 - val_acc: 0.9770\n",
      "Epoch 67/100\n",
      "100/100 [==============================] - 8s - loss: 0.0011 - acc: 0.9995 - val_loss: 0.1041 - val_acc: 0.9820\n",
      "Epoch 68/100\n",
      "100/100 [==============================] - 8s - loss: 0.0027 - acc: 0.9995 - val_loss: 0.1322 - val_acc: 0.9750\n",
      "Epoch 69/100\n",
      "100/100 [==============================] - 8s - loss: 0.0023 - acc: 0.9985 - val_loss: 0.1069 - val_acc: 0.9760\n",
      "Epoch 70/100\n",
      "100/100 [==============================] - 8s - loss: 8.5509e-04 - acc: 0.9995 - val_loss: 0.1016 - val_acc: 0.9750\n",
      "Epoch 71/100\n",
      "100/100 [==============================] - 8s - loss: 0.0067 - acc: 0.9985 - val_loss: 0.1158 - val_acc: 0.9750\n",
      "Epoch 72/100\n",
      "100/100 [==============================] - 8s - loss: 0.0060 - acc: 0.9980 - val_loss: 0.1243 - val_acc: 0.9750\n",
      "Epoch 73/100\n",
      "100/100 [==============================] - 8s - loss: 0.0014 - acc: 0.9995 - val_loss: 0.1137 - val_acc: 0.9720\n",
      "Epoch 74/100\n",
      "100/100 [==============================] - 8s - loss: 0.0011 - acc: 0.9995 - val_loss: 0.1053 - val_acc: 0.9780\n",
      "Epoch 75/100\n",
      "100/100 [==============================] - 8s - loss: 0.0039 - acc: 0.9990 - val_loss: 0.1454 - val_acc: 0.9740\n",
      "Epoch 76/100\n",
      "100/100 [==============================] - 8s - loss: 0.0045 - acc: 0.9985 - val_loss: 0.0958 - val_acc: 0.9770\n",
      "Epoch 77/100\n",
      "100/100 [==============================] - 8s - loss: 0.0084 - acc: 0.9970 - val_loss: 0.1024 - val_acc: 0.9760\n",
      "Epoch 78/100\n",
      "100/100 [==============================] - 8s - loss: 0.0083 - acc: 0.9975 - val_loss: 0.1015 - val_acc: 0.9730\n",
      "Epoch 79/100\n",
      "100/100 [==============================] - 8s - loss: 0.0066 - acc: 0.9985 - val_loss: 0.0823 - val_acc: 0.9760\n",
      "Epoch 80/100\n",
      "100/100 [==============================] - 8s - loss: 0.0013 - acc: 1.0000 - val_loss: 0.1040 - val_acc: 0.9750\n",
      "Epoch 81/100\n",
      "100/100 [==============================] - 8s - loss: 0.0023 - acc: 0.9995 - val_loss: 0.1053 - val_acc: 0.9750\n",
      "Epoch 82/100\n",
      "100/100 [==============================] - 8s - loss: 0.0038 - acc: 0.9985 - val_loss: 0.1077 - val_acc: 0.9680\n",
      "Epoch 83/100\n",
      "100/100 [==============================] - 8s - loss: 0.0066 - acc: 0.9975 - val_loss: 0.0588 - val_acc: 0.9820\n",
      "Epoch 84/100\n",
      "100/100 [==============================] - 8s - loss: 0.0030 - acc: 0.9995 - val_loss: 0.0923 - val_acc: 0.9730\n",
      "Epoch 85/100\n",
      "100/100 [==============================] - 8s - loss: 0.0025 - acc: 0.9985 - val_loss: 0.1041 - val_acc: 0.9710\n",
      "Epoch 86/100\n",
      "100/100 [==============================] - 8s - loss: 0.0086 - acc: 0.9970 - val_loss: 0.0934 - val_acc: 0.9800\n",
      "Epoch 87/100\n",
      "100/100 [==============================] - 8s - loss: 0.0053 - acc: 0.9980 - val_loss: 0.1123 - val_acc: 0.9700\n",
      "Epoch 88/100\n",
      "100/100 [==============================] - 8s - loss: 0.0028 - acc: 0.9990 - val_loss: 0.0925 - val_acc: 0.9800\n",
      "Epoch 89/100\n",
      "100/100 [==============================] - 8s - loss: 0.0025 - acc: 0.9990 - val_loss: 0.1269 - val_acc: 0.9710\n",
      "Epoch 90/100\n",
      "100/100 [==============================] - 8s - loss: 0.0030 - acc: 0.9990 - val_loss: 0.0834 - val_acc: 0.9850\n",
      "Epoch 91/100\n",
      "100/100 [==============================] - 8s - loss: 5.3194e-04 - acc: 1.0000 - val_loss: 0.1149 - val_acc: 0.9760\n",
      "Epoch 92/100\n",
      "100/100 [==============================] - 8s - loss: 0.0031 - acc: 0.9980 - val_loss: 0.1196 - val_acc: 0.9710\n",
      "Epoch 93/100\n",
      "100/100 [==============================] - 8s - loss: 0.0018 - acc: 0.9995 - val_loss: 0.1174 - val_acc: 0.9790\n",
      "Epoch 94/100\n",
      "100/100 [==============================] - 8s - loss: 0.0043 - acc: 0.9985 - val_loss: 0.0988 - val_acc: 0.9800\n",
      "Epoch 95/100\n",
      "100/100 [==============================] - 8s - loss: 0.0039 - acc: 0.9990 - val_loss: 0.0992 - val_acc: 0.9790\n",
      "Epoch 96/100\n",
      "100/100 [==============================] - 8s - loss: 0.0106 - acc: 0.9975 - val_loss: 0.1192 - val_acc: 0.9750\n",
      "Epoch 97/100\n",
      "100/100 [==============================] - 8s - loss: 0.0020 - acc: 0.9990 - val_loss: 0.1542 - val_acc: 0.9720\n",
      "Epoch 98/100\n",
      "100/100 [==============================] - 8s - loss: 0.0043 - acc: 0.9980 - val_loss: 0.0949 - val_acc: 0.9760\n",
      "Epoch 99/100\n",
      "100/100 [==============================] - 8s - loss: 0.0068 - acc: 0.9975 - val_loss: 0.1507 - val_acc: 0.9720\n",
      "Epoch 100/100\n",
      "100/100 [==============================] - 8s - loss: 0.0014 - acc: 0.9995 - val_loss: 0.1064 - val_acc: 0.9750\n"
     ]
    }
   ],
   "source": [
    "model.compile(loss='binary_crossentropy',\n",
    "             optimizer = optimizers.Adam(lr=1e-5),\n",
    "             metrics = ['acc'])\n",
    "history = model.fit_generator(\n",
    "train_generator,\n",
    "steps_per_epoch = 100,\n",
    "epochs = 100,\n",
    "validation_data = validation_generator,\n",
    "validation_steps = 50)"
   ]
  },
  {
   "cell_type": "code",
   "execution_count": 21,
   "metadata": {
    "collapsed": true
   },
   "outputs": [],
   "source": [
    "model.save('cats_dogs_mymodel_finetuned_1.h5')"
   ]
  },
  {
   "cell_type": "code",
   "execution_count": 22,
   "metadata": {},
   "outputs": [
    {
     "data": {
      "image/png": "[encoded data removed]",
      "text/plain": [
       "<Figure size 432x288 with 1 Axes>"
      ]
     },
     "metadata": {},
     "output_type": "display_data"
    },
    {
     "data": {
      "image/png": "[encoded data removed]",
      "text/plain": [
       "<Figure size 432x288 with 1 Axes>"
      ]
     },
     "metadata": {},
     "output_type": "display_data"
    }
   ],
   "source": [
    "acc = history.history['acc']\n",
    "val_acc = history.history['val_acc']\n",
    "loss = history.history['loss']\n",
    "val_loss = history.history['val_loss']\n",
    "\n",
    "epochs = range(len(acc))\n",
    "\n",
    "plt.plot(epochs, acc, 'bo', label='Training acc')\n",
    "plt.plot(epochs, val_acc, 'b', label='Validation acc')\n",
    "plt.title('Training and validation accuracy')\n",
    "plt.legend()\n",
    "\n",
    "plt.figure()\n",
    "\n",
    "plt.plot(epochs, loss, 'bo', label='Training loss')\n",
    "plt.plot(epochs, val_loss, 'b', label='Validation loss')\n",
    "plt.title('Training and validation loss')\n",
    "plt.legend()\n",
    "\n",
    "plt.show()"
   ]
  },
  {
   "cell_type": "code",
   "execution_count": 23,
   "metadata": {},
   "outputs": [
    {
     "data": {
      "image/png": "[encoded data removed]",
      "text/plain": [
       "<Figure size 432x288 with 1 Axes>"
      ]
     },
     "metadata": {},
     "output_type": "display_data"
    },
    {
     "data": {
      "image/png": "[encoded data removed]",
      "text/plain": [
       "<Figure size 432x288 with 1 Axes>"
      ]
     },
     "metadata": {},
     "output_type": "display_data"
    }
   ],
   "source": [
    "def smooth_curve(points, factor=0.8):\n",
    "    smoothed_points = []\n",
    "    for point in points:\n",
    "    if smoothed_points:\n",
    "        previous = smoothed_points[-1]\n",
    "        smoothed_points.append(previous * factor + point * (1 - factor))\n",
    "    else:\n",
    "        smoothed_points.append(point)\n",
    "        return smoothed_points\n",
    "\n",
    "plt.plot(epochs,\n",
    "         smooth_curve(acc), 'bo', label='Smoothed training acc')\n",
    "plt.plot(epochs,\n",
    "         smooth_curve(val_acc), 'b', label='Smoothed validation acc')\n",
    "plt.title('Training and validation accuracy')\n",
    "plt.legend()\n",
    "\n",
    "plt.figure()\n",
    "\n",
    "plt.plot(epochs,\n",
    "         smooth_curve(loss), 'bo', label='Smoothed training loss')\n",
    "plt.plot(epochs,\n",
    "         smooth_curve(val_loss), 'b', label='Smoothed validation loss')\n",
    "plt.title('Training and validation loss')\n",
    "plt.legend()\n",
    "\n",
    "plt.show()"
   ]
  },
  {
   "cell_type": "code",
   "execution_count": 24,
   "metadata": {},
   "outputs": [
    {
     "name": "stdout",
     "output_type": "stream",
     "text": [
      "Found 1000 images belonging to 2 classes.\n",
      "accuray is : 0.9689999949932099\n"
     ]
    }
   ],
   "source": [
    "test_generator = test_datagen.flow_from_directory(\n",
    "test_dir,\n",
    "target_size = (150, 150),\n",
    "batch_size = 20,\n",
    "class_mode = 'binary')\n",
    "\n",
    "test_loss, test_acc = model.evaluate_generator(test_generator, steps = 50)\n",
    "print('accuray is :', test_acc)"
   ]
  },
  {
   "cell_type": "code",
   "execution_count": null,
   "metadata": {
    "collapsed": true
   },
   "outputs": [],
   "source": []
  }
 ],
 "metadata": {
  "kernelspec": {
   "display_name": "Python 3",
   "language": "python",
   "name": "python3"
  },
  "language_info": {
   "codemirror_mode": {
    "name": "ipython",
    "version": 3
   },
   "file_extension": ".py",
   "mimetype": "text/x-python",
   "name": "python",
   "nbconvert_exporter": "python",
   "pygments_lexer": "ipython3",
   "version": "3.6.5"
  }
 },
 "nbformat": 4,
 "nbformat_minor": 2
}
