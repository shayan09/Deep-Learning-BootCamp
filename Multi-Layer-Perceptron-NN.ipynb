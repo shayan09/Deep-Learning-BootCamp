{
 "cells": [
  {
   "cell_type": "code",
   "execution_count": 1,
   "metadata": {
    "scrolled": true
   },
   "outputs": [
    {
     "name": "stderr",
     "output_type": "stream",
     "text": [
      "/anaconda3/lib/python3.6/site-packages/h5py/__init__.py:36: FutureWarning: Conversion of the second argument of issubdtype from `float` to `np.floating` is deprecated. In future, it will be treated as `np.float64 == np.dtype(float).type`.\n",
      "  from ._conv import register_converters as _register_converters\n"
     ]
    }
   ],
   "source": [
    "import tensorflow as tf"
   ]
  },
  {
   "cell_type": "code",
   "execution_count": 2,
   "metadata": {},
   "outputs": [
    {
     "name": "stdout",
     "output_type": "stream",
     "text": [
      "WARNING:tensorflow:From <ipython-input-2-4e25ee396bc7>:2: read_data_sets (from tensorflow.contrib.learn.python.learn.datasets.mnist) is deprecated and will be removed in a future version.\n",
      "Instructions for updating:\n",
      "Please use alternatives such as official/mnist/dataset.py from tensorflow/models.\n",
      "WARNING:tensorflow:From /Users/tarrysingh/.local/lib/python3.6/site-packages/tensorflow/contrib/learn/python/learn/datasets/mnist.py:260: maybe_download (from tensorflow.contrib.learn.python.learn.datasets.base) is deprecated and will be removed in a future version.\n",
      "Instructions for updating:\n",
      "Please write your own downloading logic.\n",
      "WARNING:tensorflow:From /Users/tarrysingh/.local/lib/python3.6/site-packages/tensorflow/contrib/learn/python/learn/datasets/mnist.py:262: extract_images (from tensorflow.contrib.learn.python.learn.datasets.mnist) is deprecated and will be removed in a future version.\n",
      "Instructions for updating:\n",
      "Please use tf.data to implement this functionality.\n",
      "Extracting MNIST_data/train-images-idx3-ubyte.gz\n",
      "WARNING:tensorflow:From /Users/tarrysingh/.local/lib/python3.6/site-packages/tensorflow/contrib/learn/python/learn/datasets/mnist.py:267: extract_labels (from tensorflow.contrib.learn.python.learn.datasets.mnist) is deprecated and will be removed in a future version.\n",
      "Instructions for updating:\n",
      "Please use tf.data to implement this functionality.\n",
      "Extracting MNIST_data/train-labels-idx1-ubyte.gz\n",
      "WARNING:tensorflow:From /Users/tarrysingh/.local/lib/python3.6/site-packages/tensorflow/contrib/learn/python/learn/datasets/mnist.py:110: dense_to_one_hot (from tensorflow.contrib.learn.python.learn.datasets.mnist) is deprecated and will be removed in a future version.\n",
      "Instructions for updating:\n",
      "Please use tf.one_hot on tensors.\n",
      "Extracting MNIST_data/t10k-images-idx3-ubyte.gz\n",
      "Extracting MNIST_data/t10k-labels-idx1-ubyte.gz\n",
      "WARNING:tensorflow:From /Users/tarrysingh/.local/lib/python3.6/site-packages/tensorflow/contrib/learn/python/learn/datasets/mnist.py:290: DataSet.__init__ (from tensorflow.contrib.learn.python.learn.datasets.mnist) is deprecated and will be removed in a future version.\n",
      "Instructions for updating:\n",
      "Please use alternatives such as official/mnist/dataset.py from tensorflow/models.\n"
     ]
    }
   ],
   "source": [
    "from tensorflow.examples.tutorials.mnist import input_data\n",
    "mnist = input_data.read_data_sets(\"MNIST_data\", one_hot=True)"
   ]
  },
  {
   "cell_type": "markdown",
   "metadata": {},
   "source": [
    "### What are we going to do\n",
    "\n",
    "We are going to pretend as if we have a sophisticated NN (without CNN brain)\n",
    "1. Hyperparameters\n",
    "2. Network Parameters\n",
    "3. TF Graph Input\n",
    "4. MLP Model\n",
    "5. Weights, Biases, Cost , Optimizer\n",
    "6. Running and evaluating the accuracy"
   ]
  },
  {
   "cell_type": "code",
   "execution_count": 3,
   "metadata": {},
   "outputs": [],
   "source": [
    "# Parameters\n",
    "learning_rate   = 0.001\n",
    "training_epochs = 100\n",
    "batch_size      = 100"
   ]
  },
  {
   "cell_type": "code",
   "execution_count": 4,
   "metadata": {},
   "outputs": [],
   "source": [
    "# Network Parameters\n",
    "n_hidden_1 = 256\n",
    "n_hidden_2 = 256\n",
    "n_input    = 784\n",
    "n_classes  = 10\n",
    "n_samples  = mnist.train.num_examples"
   ]
  },
  {
   "cell_type": "code",
   "execution_count": 5,
   "metadata": {},
   "outputs": [],
   "source": [
    "# TF Graph Input\n",
    "x = tf.placeholder(\"float\", [None, n_input])\n",
    "y = tf.placeholder(\"float\", [None, n_classes])"
   ]
  },
  {
   "cell_type": "code",
   "execution_count": 6,
   "metadata": {},
   "outputs": [],
   "source": [
    "# Multi Layer Perceptron Model\n",
    "def multilayer_perceptron(x, weights, biases):\n",
    "    '''\n",
    "    Add explanation\n",
    "    \n",
    "    '''\n",
    "    # First hidden layer with RELU activation function\n",
    "    layer_1 = tf.add(tf.matmul(x, weights['h1']), biases['b1'])\n",
    "    layer_1 = tf.nn.relu(layer_1)\n",
    "    \n",
    "    # Second layer\n",
    "    layer_2 = tf.add(tf.matmul(layer_1, weights['h2']), biases['b2'])\n",
    "    layer_2 = tf.nn.relu(layer_2)\n",
    "    \n",
    "    # Final output\n",
    "    \n",
    "    out_layer = tf.add(tf.matmul(layer_2, weights['out']), biases['out'])\n",
    "    return out_layer\n"
   ]
  },
  {
   "cell_type": "code",
   "execution_count": 7,
   "metadata": {},
   "outputs": [],
   "source": [
    "# weights and biases\n",
    "\n",
    "weights = {\n",
    "    'h1': tf.Variable(tf.random_normal([n_input, n_hidden_1])),\n",
    "    'h2': tf.Variable(tf.random_normal([n_hidden_1, n_hidden_2])),\n",
    "    'out':tf.Variable(tf.random_normal([n_hidden_2, n_classes]))\n",
    "}"
   ]
  },
  {
   "cell_type": "code",
   "execution_count": 8,
   "metadata": {},
   "outputs": [],
   "source": [
    "biases = {\n",
    "    'b1':tf.Variable(tf.random_normal([n_hidden_1])),\n",
    "    'b2':tf.Variable(tf.random_normal([n_hidden_2])),\n",
    "    'out':tf.Variable(tf.random_normal([n_classes]))\n",
    "}"
   ]
  },
  {
   "cell_type": "code",
   "execution_count": 9,
   "metadata": {},
   "outputs": [],
   "source": [
    "#prediction label\n",
    "pred = multilayer_perceptron(x, weights, biases )"
   ]
  },
  {
   "cell_type": "code",
   "execution_count": 10,
   "metadata": {},
   "outputs": [],
   "source": [
    "# Cost/Loss and Optimizer Functions\n",
    "cost = tf.reduce_mean(tf.nn.softmax_cross_entropy_with_logits_v2(labels=y, logits=pred))\n",
    "optimizer = tf.train.RMSPropOptimizer(learning_rate=learning_rate).minimize(cost)"
   ]
  },
  {
   "cell_type": "code",
   "execution_count": 11,
   "metadata": {},
   "outputs": [],
   "source": [
    "# Initialize global variables\n",
    "init = tf.global_variables_initializer()"
   ]
  },
  {
   "cell_type": "code",
   "execution_count": 12,
   "metadata": {},
   "outputs": [
    {
     "name": "stdout",
     "output_type": "stream",
     "text": [
      "Epoch: 1 cost=157.4873\n",
      "Epoch: 2 cost=32.2664\n",
      "Epoch: 3 cost=19.5096\n",
      "Epoch: 4 cost=13.3777\n",
      "Epoch: 5 cost=9.7850\n",
      "Epoch: 6 cost=7.2353\n",
      "Epoch: 7 cost=5.4417\n",
      "Epoch: 8 cost=4.1757\n",
      "Epoch: 9 cost=3.2421\n",
      "Epoch: 10 cost=2.4719\n",
      "Epoch: 11 cost=1.9429\n",
      "Epoch: 12 cost=1.5001\n",
      "Epoch: 13 cost=1.2331\n",
      "Epoch: 14 cost=0.9649\n",
      "Epoch: 15 cost=0.7273\n",
      "Epoch: 16 cost=0.6344\n",
      "Epoch: 17 cost=0.5246\n",
      "Epoch: 18 cost=0.4355\n",
      "Epoch: 19 cost=0.3691\n",
      "Epoch: 20 cost=0.2932\n",
      "Epoch: 21 cost=0.2812\n",
      "Epoch: 22 cost=0.2296\n",
      "Epoch: 23 cost=0.1999\n",
      "Epoch: 24 cost=0.1650\n",
      "Epoch: 25 cost=0.2017\n",
      "Epoch: 26 cost=0.1522\n",
      "Epoch: 27 cost=0.1564\n",
      "Epoch: 28 cost=0.1416\n",
      "Epoch: 29 cost=0.1332\n",
      "Epoch: 30 cost=0.1368\n",
      "Epoch: 31 cost=0.1461\n",
      "Epoch: 32 cost=0.1155\n",
      "Epoch: 33 cost=0.0938\n",
      "Epoch: 34 cost=0.0918\n",
      "Epoch: 35 cost=0.0921\n",
      "Epoch: 36 cost=0.0862\n",
      "Epoch: 37 cost=0.0979\n",
      "Epoch: 38 cost=0.0804\n",
      "Epoch: 39 cost=0.0982\n",
      "Epoch: 40 cost=0.0611\n",
      "Epoch: 41 cost=0.0700\n",
      "Epoch: 42 cost=0.0650\n",
      "Epoch: 43 cost=0.0767\n",
      "Epoch: 44 cost=0.0719\n",
      "Epoch: 45 cost=0.0608\n",
      "Epoch: 46 cost=0.0790\n",
      "Epoch: 47 cost=0.0616\n",
      "Epoch: 48 cost=0.0746\n",
      "Epoch: 49 cost=0.0497\n",
      "Epoch: 50 cost=0.0750\n",
      "Epoch: 51 cost=0.0541\n",
      "Epoch: 52 cost=0.0553\n",
      "Epoch: 53 cost=0.0748\n",
      "Epoch: 54 cost=0.0529\n",
      "Epoch: 55 cost=0.0589\n",
      "Epoch: 56 cost=0.0366\n",
      "Epoch: 57 cost=0.0473\n",
      "Epoch: 58 cost=0.0730\n",
      "Epoch: 59 cost=0.0358\n",
      "Epoch: 60 cost=0.0480\n",
      "Epoch: 61 cost=0.0536\n",
      "Epoch: 62 cost=0.0473\n",
      "Epoch: 63 cost=0.0433\n",
      "Epoch: 64 cost=0.0422\n",
      "Epoch: 65 cost=0.0387\n",
      "Epoch: 66 cost=0.0401\n",
      "Epoch: 67 cost=0.0401\n",
      "Epoch: 68 cost=0.0379\n",
      "Epoch: 69 cost=0.0295\n",
      "Epoch: 70 cost=0.0303\n",
      "Epoch: 71 cost=0.0218\n",
      "Epoch: 72 cost=0.0334\n",
      "Epoch: 73 cost=0.0398\n",
      "Epoch: 74 cost=0.0320\n",
      "Epoch: 75 cost=0.0289\n",
      "Epoch: 76 cost=0.0276\n",
      "Epoch: 77 cost=0.0254\n",
      "Epoch: 78 cost=0.0285\n",
      "Epoch: 79 cost=0.0275\n",
      "Epoch: 80 cost=0.0352\n",
      "Epoch: 81 cost=0.0433\n",
      "Epoch: 82 cost=0.0226\n",
      "Epoch: 83 cost=0.0248\n",
      "Epoch: 84 cost=0.0211\n",
      "Epoch: 85 cost=0.0219\n",
      "Epoch: 86 cost=0.0337\n",
      "Epoch: 87 cost=0.0291\n",
      "Epoch: 88 cost=0.0312\n",
      "Epoch: 89 cost=0.0247\n",
      "Epoch: 90 cost=0.0265\n",
      "Epoch: 91 cost=0.0315\n",
      "Epoch: 92 cost=0.0231\n",
      "Epoch: 93 cost=0.0242\n",
      "Epoch: 94 cost=0.0224\n",
      "Epoch: 95 cost=0.0100\n",
      "Epoch: 96 cost=0.0220\n",
      "Epoch: 97 cost=0.0260\n",
      "Epoch: 98 cost=0.0296\n",
      "Epoch: 99 cost=0.0292\n",
      "Epoch: 100 cost=0.0328\n",
      "Model has completed 100 Epochs of training\n"
     ]
    }
   ],
   "source": [
    "# Session - run and evaluate\n",
    "\n",
    "sess = tf.InteractiveSession()\n",
    "\n",
    "sess.run(init)\n",
    "\n",
    "for epoch in range(training_epochs):\n",
    "    avg_cost = 0.0\n",
    "    total_batch = int(n_samples/batch_size)\n",
    "    \n",
    "    #loop over all batches\n",
    "    for i in range(total_batch):\n",
    "        # grab the next batch for training the data and labels\n",
    "        batch_x, batch_y = mnist.train.next_batch(batch_size)\n",
    "        # feed into the dictionary in order to optimize and minimize loss\n",
    "        _, c = sess.run([optimizer, cost], feed_dict={x:batch_x, y:batch_y})\n",
    "        \n",
    "        #compute avg loss\n",
    "        avg_cost += c / total_batch\n",
    "        \n",
    "    print(\"Epoch: {} cost={:.4f}\".format(epoch+1, avg_cost))\n",
    "    \n",
    "print(\"Model has completed {} Epochs of training\".format(training_epochs))\n",
    "    \n",
    "    \n",
    "    \n",
    "    \n",
    "    \n",
    "    \n",
    "    \n",
    "    \n",
    "    \n",
    "    "
   ]
  },
  {
   "cell_type": "code",
   "execution_count": 13,
   "metadata": {},
   "outputs": [],
   "source": [
    "# Model  Testing and Evaluation\n",
    "correct_predictions = tf.equal(tf.argmax(pred, 1), tf.argmax(y, 1))"
   ]
  },
  {
   "cell_type": "code",
   "execution_count": 14,
   "metadata": {},
   "outputs": [
    {
     "name": "stdout",
     "output_type": "stream",
     "text": [
      "Tensor(\"strided_slice:0\", shape=(), dtype=bool)\n"
     ]
    }
   ],
   "source": [
    "print(correct_predictions[0])"
   ]
  },
  {
   "cell_type": "code",
   "execution_count": 15,
   "metadata": {},
   "outputs": [],
   "source": [
    "correct_predictions = tf.cast(correct_predictions, \"float\")\n"
   ]
  },
  {
   "cell_type": "code",
   "execution_count": 16,
   "metadata": {},
   "outputs": [],
   "source": [
    "accuracy = tf.reduce_mean(correct_predictions)\n"
   ]
  },
  {
   "cell_type": "code",
   "execution_count": 17,
   "metadata": {},
   "outputs": [
    {
     "data": {
      "text/plain": [
       "tensorflow.python.framework.ops.Tensor"
      ]
     },
     "execution_count": 17,
     "metadata": {},
     "output_type": "execute_result"
    }
   ],
   "source": [
    "type(accuracy)"
   ]
  },
  {
   "cell_type": "code",
   "execution_count": 18,
   "metadata": {},
   "outputs": [
    {
     "name": "stdout",
     "output_type": "stream",
     "text": [
      "Accuracy: 0.9586\n"
     ]
    }
   ],
   "source": [
    "print(\"Accuracy:\", accuracy.eval({x:mnist.test.images, y:mnist.test.labels}))"
   ]
  },
  {
   "cell_type": "code",
   "execution_count": null,
   "metadata": {},
   "outputs": [],
   "source": []
  }
 ],
 "metadata": {
  "kernelspec": {
   "display_name": "Python 3",
   "language": "python",
   "name": "python3"
  },
  "language_info": {
   "codemirror_mode": {
    "name": "ipython",
    "version": 3
   },
   "file_extension": ".py",
   "mimetype": "text/x-python",
   "name": "python",
   "nbconvert_exporter": "python",
   "pygments_lexer": "ipython3",
   "version": "3.6.5"
  }
 },
 "nbformat": 4,
 "nbformat_minor": 2
}
