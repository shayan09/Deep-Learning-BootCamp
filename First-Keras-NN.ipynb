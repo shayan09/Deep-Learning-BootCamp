{
 "cells": [
  {
   "cell_type": "code",
   "execution_count": 2,
   "metadata": {},
   "outputs": [
    {
     "name": "stdout",
     "output_type": "stream",
     "text": [
      "Collecting keras\n",
      "\u001b[?25l  Downloading https://files.pythonhosted.org/packages/5e/10/aa32dad071ce52b5502266b5c659451cfd6ffcbf14e6c8c4f16c0ff5aaab/Keras-2.2.4-py2.py3-none-any.whl (312kB)\n",
      "\u001b[K    100% |████████████████████████████████| 317kB 7.8MB/s ta 0:00:011\n",
      "\u001b[?25hRequirement already satisfied: keras-applications>=1.0.6 in /Users/tarrysingh/.local/lib/python3.6/site-packages (from keras) (1.0.6)\n",
      "Requirement already satisfied: scipy>=0.14 in /anaconda3/lib/python3.6/site-packages (from keras) (1.1.0)\n",
      "Requirement already satisfied: numpy>=1.9.1 in /anaconda3/lib/python3.6/site-packages (from keras) (1.14.3)\n",
      "Requirement already satisfied: keras-preprocessing>=1.0.5 in /Users/tarrysingh/.local/lib/python3.6/site-packages (from keras) (1.0.5)\n",
      "Requirement already satisfied: h5py in /anaconda3/lib/python3.6/site-packages (from keras) (2.7.1)\n",
      "Requirement already satisfied: six>=1.9.0 in /anaconda3/lib/python3.6/site-packages (from keras) (1.11.0)\n",
      "Requirement already satisfied: pyyaml in /anaconda3/lib/python3.6/site-packages (from keras) (3.12)\n",
      "Installing collected packages: keras\n",
      "Successfully installed keras-2.2.4\n"
     ]
    }
   ],
   "source": [
    "!pip install keras"
   ]
  },
  {
   "cell_type": "code",
   "execution_count": 3,
   "metadata": {},
   "outputs": [
    {
     "name": "stderr",
     "output_type": "stream",
     "text": [
      "/anaconda3/lib/python3.6/site-packages/h5py/__init__.py:36: FutureWarning: Conversion of the second argument of issubdtype from `float` to `np.floating` is deprecated. In future, it will be treated as `np.float64 == np.dtype(float).type`.\n",
      "  from ._conv import register_converters as _register_converters\n",
      "Using TensorFlow backend.\n"
     ]
    }
   ],
   "source": [
    "import keras"
   ]
  },
  {
   "cell_type": "code",
   "execution_count": 4,
   "metadata": {},
   "outputs": [
    {
     "data": {
      "text/plain": [
       "'2.2.4'"
      ]
     },
     "execution_count": 4,
     "metadata": {},
     "output_type": "execute_result"
    }
   ],
   "source": [
    "keras.__version__"
   ]
  },
  {
   "cell_type": "code",
   "execution_count": 5,
   "metadata": {},
   "outputs": [],
   "source": [
    "from keras.datasets import mnist"
   ]
  },
  {
   "cell_type": "code",
   "execution_count": 6,
   "metadata": {},
   "outputs": [],
   "source": [
    "(train_images, train_labels), (test_images, test_labels) = mnist.load_data()"
   ]
  },
  {
   "cell_type": "code",
   "execution_count": 7,
   "metadata": {},
   "outputs": [
    {
     "data": {
      "text/plain": [
       "(60000, 28, 28)"
      ]
     },
     "execution_count": 7,
     "metadata": {},
     "output_type": "execute_result"
    }
   ],
   "source": [
    "train_images.shape"
   ]
  },
  {
   "cell_type": "code",
   "execution_count": 8,
   "metadata": {},
   "outputs": [
    {
     "data": {
      "text/plain": [
       "60000"
      ]
     },
     "execution_count": 8,
     "metadata": {},
     "output_type": "execute_result"
    }
   ],
   "source": [
    "len(train_labels)"
   ]
  },
  {
   "cell_type": "code",
   "execution_count": 9,
   "metadata": {},
   "outputs": [
    {
     "data": {
      "text/plain": [
       "array([5, 0, 4, ..., 5, 6, 8], dtype=uint8)"
      ]
     },
     "execution_count": 9,
     "metadata": {},
     "output_type": "execute_result"
    }
   ],
   "source": [
    "train_labels"
   ]
  },
  {
   "cell_type": "code",
   "execution_count": 10,
   "metadata": {},
   "outputs": [
    {
     "data": {
      "text/plain": [
       "(10000, 28, 28)"
      ]
     },
     "execution_count": 10,
     "metadata": {},
     "output_type": "execute_result"
    }
   ],
   "source": [
    "test_images.shape"
   ]
  },
  {
   "cell_type": "code",
   "execution_count": 11,
   "metadata": {},
   "outputs": [
    {
     "data": {
      "text/plain": [
       "10000"
      ]
     },
     "execution_count": 11,
     "metadata": {},
     "output_type": "execute_result"
    }
   ],
   "source": [
    "len(test_labels)"
   ]
  },
  {
   "cell_type": "code",
   "execution_count": 12,
   "metadata": {},
   "outputs": [
    {
     "data": {
      "text/plain": [
       "array([7, 2, 1, ..., 4, 5, 6], dtype=uint8)"
      ]
     },
     "execution_count": 12,
     "metadata": {},
     "output_type": "execute_result"
    }
   ],
   "source": [
    "test_labels"
   ]
  },
  {
   "cell_type": "code",
   "execution_count": 20,
   "metadata": {},
   "outputs": [],
   "source": [
    "from keras import models \n",
    "from keras import layers\n",
    "from keras.utils import to_categorical"
   ]
  },
  {
   "cell_type": "code",
   "execution_count": 15,
   "metadata": {},
   "outputs": [],
   "source": [
    "network = models.Sequential()\n",
    "network.add(layers.Dense(512, activation='relu', input_shape=(28*28,)))\n",
    "network.add(layers.Dense(10, activation='softmax'))"
   ]
  },
  {
   "cell_type": "code",
   "execution_count": 16,
   "metadata": {},
   "outputs": [],
   "source": [
    "network.compile(optimizer = 'adam',\n",
    "               loss = 'categorical_crossentropy',\n",
    "               metrics=['accuracy'])"
   ]
  },
  {
   "cell_type": "code",
   "execution_count": 17,
   "metadata": {},
   "outputs": [],
   "source": [
    "train_images = train_images.reshape((60000, 28*28))\n",
    "train_images = train_images.astype('float32')/255\n",
    "test_images = test_images.reshape((10000, 28*28))\n",
    "test_images = test_images.astype('float32')/255"
   ]
  },
  {
   "cell_type": "code",
   "execution_count": 21,
   "metadata": {},
   "outputs": [],
   "source": [
    "train_labels = to_categorical(train_labels)\n",
    "test_labels = to_categorical(test_labels)"
   ]
  },
  {
   "cell_type": "code",
   "execution_count": 23,
   "metadata": {},
   "outputs": [
    {
     "name": "stdout",
     "output_type": "stream",
     "text": [
      "Epoch 1/100\n",
      "60000/60000 [==============================] - 3s 53us/step - loss: 0.2658 - acc: 0.9249\n",
      "Epoch 2/100\n",
      "60000/60000 [==============================] - 3s 50us/step - loss: 0.1070 - acc: 0.9689\n",
      "Epoch 3/100\n",
      "60000/60000 [==============================] - 3s 47us/step - loss: 0.0693 - acc: 0.9800\n",
      "Epoch 4/100\n",
      "60000/60000 [==============================] - 3s 48us/step - loss: 0.0506 - acc: 0.9853\n",
      "Epoch 5/100\n",
      "60000/60000 [==============================] - 3s 48us/step - loss: 0.0358 - acc: 0.9899\n",
      "Epoch 6/100\n",
      "60000/60000 [==============================] - 3s 50us/step - loss: 0.0278 - acc: 0.9919\n",
      "Epoch 7/100\n",
      "60000/60000 [==============================] - 3s 52us/step - loss: 0.0209 - acc: 0.9942\n",
      "Epoch 8/100\n",
      "60000/60000 [==============================] - 3s 50us/step - loss: 0.0147 - acc: 0.9965\n",
      "Epoch 9/100\n",
      "60000/60000 [==============================] - 3s 51us/step - loss: 0.0127 - acc: 0.9965\n",
      "Epoch 10/100\n",
      "60000/60000 [==============================] - 3s 52us/step - loss: 0.0089 - acc: 0.9980\n",
      "Epoch 11/100\n",
      "60000/60000 [==============================] - 3s 48us/step - loss: 0.0092 - acc: 0.9977\n",
      "Epoch 12/100\n",
      "60000/60000 [==============================] - 3s 49us/step - loss: 0.0059 - acc: 0.9988\n",
      "Epoch 13/100\n",
      "60000/60000 [==============================] - 3s 49us/step - loss: 0.0069 - acc: 0.9981\n",
      "Epoch 14/100\n",
      "60000/60000 [==============================] - 3s 48us/step - loss: 0.0065 - acc: 0.9984\n",
      "Epoch 15/100\n",
      "60000/60000 [==============================] - 3s 48us/step - loss: 0.0055 - acc: 0.9985\n",
      "Epoch 16/100\n",
      "60000/60000 [==============================] - 3s 48us/step - loss: 0.0045 - acc: 0.9988\n",
      "Epoch 17/100\n",
      "60000/60000 [==============================] - 3s 52us/step - loss: 0.0019 - acc: 0.9998\n",
      "Epoch 18/100\n",
      "60000/60000 [==============================] - 3s 50us/step - loss: 6.7217e-04 - acc: 1.0000\n",
      "Epoch 19/100\n",
      "60000/60000 [==============================] - 3s 50us/step - loss: 0.0012 - acc: 0.9998\n",
      "Epoch 20/100\n",
      "60000/60000 [==============================] - 3s 49us/step - loss: 0.0129 - acc: 0.9956\n",
      "Epoch 21/100\n",
      "60000/60000 [==============================] - 3s 49us/step - loss: 0.0069 - acc: 0.9979\n",
      "Epoch 22/100\n",
      "60000/60000 [==============================] - 3s 48us/step - loss: 0.0013 - acc: 0.9998\n",
      "Epoch 23/100\n",
      "60000/60000 [==============================] - 3s 48us/step - loss: 4.3321e-04 - acc: 1.0000\n",
      "Epoch 24/100\n",
      "60000/60000 [==============================] - 3s 55us/step - loss: 2.1188e-04 - acc: 1.0000\n",
      "Epoch 25/100\n",
      "60000/60000 [==============================] - 3s 54us/step - loss: 1.5654e-04 - acc: 1.0000\n",
      "Epoch 26/100\n",
      "60000/60000 [==============================] - 3s 48us/step - loss: 1.3099e-04 - acc: 1.0000\n",
      "Epoch 27/100\n",
      "60000/60000 [==============================] - 3s 48us/step - loss: 1.1015e-04 - acc: 1.0000\n",
      "Epoch 28/100\n",
      "60000/60000 [==============================] - 3s 48us/step - loss: 9.4852e-05 - acc: 1.0000\n",
      "Epoch 29/100\n",
      "60000/60000 [==============================] - 3s 48us/step - loss: 8.1714e-05 - acc: 1.0000\n",
      "Epoch 30/100\n",
      "60000/60000 [==============================] - 3s 48us/step - loss: 0.0161 - acc: 0.9954\n",
      "Epoch 31/100\n",
      "60000/60000 [==============================] - 3s 48us/step - loss: 0.0064 - acc: 0.9978\n",
      "Epoch 32/100\n",
      "60000/60000 [==============================] - 3s 47us/step - loss: 0.0013 - acc: 0.9998\n",
      "Epoch 33/100\n",
      "60000/60000 [==============================] - 3s 49us/step - loss: 6.7632e-04 - acc: 0.9999\n",
      "Epoch 34/100\n",
      "60000/60000 [==============================] - 3s 49us/step - loss: 1.7982e-04 - acc: 1.0000\n",
      "Epoch 35/100\n",
      "60000/60000 [==============================] - 3s 48us/step - loss: 1.0949e-04 - acc: 1.0000\n",
      "Epoch 36/100\n",
      "60000/60000 [==============================] - 3s 48us/step - loss: 8.9052e-05 - acc: 1.0000\n",
      "Epoch 37/100\n",
      "60000/60000 [==============================] - 3s 48us/step - loss: 7.4800e-05 - acc: 1.0000\n",
      "Epoch 38/100\n",
      "60000/60000 [==============================] - 3s 48us/step - loss: 6.4221e-05 - acc: 1.0000\n",
      "Epoch 39/100\n",
      "60000/60000 [==============================] - 3s 48us/step - loss: 5.3223e-05 - acc: 1.0000\n",
      "Epoch 40/100\n",
      "60000/60000 [==============================] - 3s 48us/step - loss: 4.5968e-05 - acc: 1.0000\n",
      "Epoch 41/100\n",
      "60000/60000 [==============================] - 3s 48us/step - loss: 3.9772e-05 - acc: 1.0000\n",
      "Epoch 42/100\n",
      "60000/60000 [==============================] - 3s 48us/step - loss: 3.2962e-05 - acc: 1.0000\n",
      "Epoch 43/100\n",
      "60000/60000 [==============================] - 3s 48us/step - loss: 2.8015e-05 - acc: 1.0000\n",
      "Epoch 44/100\n",
      "60000/60000 [==============================] - 3s 48us/step - loss: 2.3946e-05 - acc: 1.0000\n",
      "Epoch 45/100\n",
      "60000/60000 [==============================] - 3s 48us/step - loss: 2.1129e-05 - acc: 1.0000\n",
      "Epoch 46/100\n",
      "60000/60000 [==============================] - 3s 48us/step - loss: 0.0134 - acc: 0.9967\n",
      "Epoch 47/100\n",
      "60000/60000 [==============================] - 3s 48us/step - loss: 0.0075 - acc: 0.9976\n",
      "Epoch 48/100\n",
      "60000/60000 [==============================] - 3s 48us/step - loss: 9.8190e-04 - acc: 0.9998\n",
      "Epoch 49/100\n",
      "60000/60000 [==============================] - 3s 48us/step - loss: 3.3872e-04 - acc: 0.9999\n",
      "Epoch 50/100\n",
      "60000/60000 [==============================] - 3s 48us/step - loss: 5.6646e-04 - acc: 0.9998\n",
      "Epoch 51/100\n",
      "60000/60000 [==============================] - 3s 48us/step - loss: 0.0048 - acc: 0.9984\n",
      "Epoch 52/100\n",
      "60000/60000 [==============================] - 3s 48us/step - loss: 0.0029 - acc: 0.9990\n",
      "Epoch 53/100\n",
      "60000/60000 [==============================] - 3s 48us/step - loss: 0.0036 - acc: 0.9988\n",
      "Epoch 54/100\n",
      "60000/60000 [==============================] - 3s 48us/step - loss: 0.0019 - acc: 0.9994\n",
      "Epoch 55/100\n",
      "60000/60000 [==============================] - 3s 48us/step - loss: 9.8165e-04 - acc: 0.9997\n",
      "Epoch 56/100\n",
      "60000/60000 [==============================] - 3s 48us/step - loss: 9.0586e-05 - acc: 1.0000\n",
      "Epoch 57/100\n",
      "60000/60000 [==============================] - 3s 48us/step - loss: 4.0474e-05 - acc: 1.0000\n",
      "Epoch 58/100\n",
      "60000/60000 [==============================] - 3s 48us/step - loss: 3.0650e-05 - acc: 1.0000\n",
      "Epoch 59/100\n",
      "60000/60000 [==============================] - 3s 48us/step - loss: 2.5182e-05 - acc: 1.0000\n",
      "Epoch 60/100\n",
      "60000/60000 [==============================] - 3s 48us/step - loss: 2.1245e-05 - acc: 1.0000\n",
      "Epoch 61/100\n",
      "60000/60000 [==============================] - 3s 48us/step - loss: 1.8172e-05 - acc: 1.0000\n",
      "Epoch 62/100\n",
      "60000/60000 [==============================] - 3s 48us/step - loss: 1.5660e-05 - acc: 1.0000\n",
      "Epoch 63/100\n",
      "60000/60000 [==============================] - 3s 48us/step - loss: 1.3467e-05 - acc: 1.0000\n",
      "Epoch 64/100\n",
      "60000/60000 [==============================] - 3s 48us/step - loss: 1.1479e-05 - acc: 1.0000\n",
      "Epoch 65/100\n",
      "60000/60000 [==============================] - 3s 48us/step - loss: 9.9675e-06 - acc: 1.0000\n",
      "Epoch 66/100\n",
      "60000/60000 [==============================] - 3s 48us/step - loss: 8.5728e-06 - acc: 1.0000\n",
      "Epoch 67/100\n",
      "60000/60000 [==============================] - 3s 48us/step - loss: 7.3601e-06 - acc: 1.0000\n",
      "Epoch 68/100\n",
      "60000/60000 [==============================] - 3s 48us/step - loss: 6.3416e-06 - acc: 1.0000\n",
      "Epoch 69/100\n",
      "60000/60000 [==============================] - 3s 48us/step - loss: 5.4346e-06 - acc: 1.0000\n",
      "Epoch 70/100\n",
      "60000/60000 [==============================] - 3s 48us/step - loss: 4.6563e-06 - acc: 1.0000\n",
      "Epoch 71/100\n",
      "60000/60000 [==============================] - 3s 48us/step - loss: 4.0548e-06 - acc: 1.0000\n",
      "Epoch 72/100\n",
      "60000/60000 [==============================] - 3s 48us/step - loss: 3.4212e-06 - acc: 1.0000\n",
      "Epoch 73/100\n",
      "60000/60000 [==============================] - 3s 48us/step - loss: 2.9204e-06 - acc: 1.0000\n",
      "Epoch 74/100\n",
      "60000/60000 [==============================] - 3s 50us/step - loss: 2.5285e-06 - acc: 1.0000\n",
      "Epoch 75/100\n",
      "60000/60000 [==============================] - 3s 50us/step - loss: 2.1343e-06 - acc: 1.0000\n",
      "Epoch 76/100\n",
      "60000/60000 [==============================] - 3s 49us/step - loss: 1.8139e-06 - acc: 1.0000\n",
      "Epoch 77/100\n",
      "60000/60000 [==============================] - 3s 48us/step - loss: 1.5749e-06 - acc: 1.0000\n",
      "Epoch 78/100\n",
      "60000/60000 [==============================] - 3s 48us/step - loss: 1.3309e-06 - acc: 1.0000\n",
      "Epoch 79/100\n"
     ]
    },
    {
     "name": "stdout",
     "output_type": "stream",
     "text": [
      "60000/60000 [==============================] - 3s 46us/step - loss: 1.1092e-06 - acc: 1.0000\n",
      "Epoch 80/100\n",
      "60000/60000 [==============================] - 3s 46us/step - loss: 9.3717e-07 - acc: 1.0000\n",
      "Epoch 81/100\n",
      "60000/60000 [==============================] - 3s 46us/step - loss: 7.7734e-07 - acc: 1.0000\n",
      "Epoch 82/100\n",
      "60000/60000 [==============================] - 3s 46us/step - loss: 6.6893e-07 - acc: 1.0000\n",
      "Epoch 83/100\n",
      "60000/60000 [==============================] - 3s 46us/step - loss: 5.8012e-07 - acc: 1.0000\n",
      "Epoch 84/100\n",
      "60000/60000 [==============================] - 3s 47us/step - loss: 4.9935e-07 - acc: 1.0000\n",
      "Epoch 85/100\n",
      "60000/60000 [==============================] - 3s 46us/step - loss: 4.4435e-07 - acc: 1.0000\n",
      "Epoch 86/100\n",
      "60000/60000 [==============================] - 3s 46us/step - loss: 0.0144 - acc: 0.9964\n",
      "Epoch 87/100\n",
      "60000/60000 [==============================] - 3s 46us/step - loss: 0.0035 - acc: 0.9988\n",
      "Epoch 88/100\n",
      "60000/60000 [==============================] - 3s 46us/step - loss: 7.8597e-04 - acc: 0.9998\n",
      "Epoch 89/100\n",
      "60000/60000 [==============================] - 3s 46us/step - loss: 0.0016 - acc: 0.9995\n",
      "Epoch 90/100\n",
      "60000/60000 [==============================] - 3s 46us/step - loss: 2.8814e-04 - acc: 0.9999\n",
      "Epoch 91/100\n",
      "60000/60000 [==============================] - 3s 46us/step - loss: 2.4633e-05 - acc: 1.0000\n",
      "Epoch 92/100\n",
      "60000/60000 [==============================] - 3s 46us/step - loss: 1.5543e-05 - acc: 1.0000\n",
      "Epoch 93/100\n",
      "60000/60000 [==============================] - 3s 47us/step - loss: 1.2390e-05 - acc: 1.0000\n",
      "Epoch 94/100\n",
      "60000/60000 [==============================] - 3s 47us/step - loss: 1.0285e-05 - acc: 1.0000\n",
      "Epoch 95/100\n",
      "60000/60000 [==============================] - 3s 47us/step - loss: 8.7071e-06 - acc: 1.0000\n",
      "Epoch 96/100\n",
      "60000/60000 [==============================] - 3s 47us/step - loss: 7.3964e-06 - acc: 1.0000\n",
      "Epoch 97/100\n",
      "60000/60000 [==============================] - 3s 46us/step - loss: 6.3201e-06 - acc: 1.0000\n",
      "Epoch 98/100\n",
      "60000/60000 [==============================] - 3s 46us/step - loss: 5.4159e-06 - acc: 1.0000\n",
      "Epoch 99/100\n",
      "60000/60000 [==============================] - 3s 46us/step - loss: 4.6436e-06 - acc: 1.0000\n",
      "Epoch 100/100\n",
      "60000/60000 [==============================] - 3s 46us/step - loss: 3.9870e-06 - acc: 1.0000\n"
     ]
    },
    {
     "data": {
      "text/plain": [
       "<keras.callbacks.History at 0x105a58c18>"
      ]
     },
     "execution_count": 23,
     "metadata": {},
     "output_type": "execute_result"
    }
   ],
   "source": [
    "network.fit(train_images, train_labels, epochs=100, batch_size=128  )"
   ]
  },
  {
   "cell_type": "code",
   "execution_count": 24,
   "metadata": {},
   "outputs": [
    {
     "name": "stdout",
     "output_type": "stream",
     "text": [
      "10000/10000 [==============================] - 0s 36us/step\n"
     ]
    }
   ],
   "source": [
    "test_loss, test_acc = network.evaluate(test_images, test_labels)"
   ]
  },
  {
   "cell_type": "code",
   "execution_count": 26,
   "metadata": {},
   "outputs": [
    {
     "name": "stdout",
     "output_type": "stream",
     "text": [
      "test_acc is:  0.9839\n"
     ]
    }
   ],
   "source": [
    "print('test_acc is: ', test_acc)"
   ]
  },
  {
   "cell_type": "code",
   "execution_count": null,
   "metadata": {},
   "outputs": [],
   "source": []
  }
 ],
 "metadata": {
  "kernelspec": {
   "display_name": "Python 3",
   "language": "python",
   "name": "python3"
  },
  "language_info": {
   "codemirror_mode": {
    "name": "ipython",
    "version": 3
   },
   "file_extension": ".py",
   "mimetype": "text/x-python",
   "name": "python",
   "nbconvert_exporter": "python",
   "pygments_lexer": "ipython3",
   "version": "3.6.5"
  }
 },
 "nbformat": 4,
 "nbformat_minor": 2
}
