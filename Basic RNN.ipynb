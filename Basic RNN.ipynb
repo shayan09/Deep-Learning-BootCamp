{
 "cells": [
  {
   "cell_type": "markdown",
   "metadata": {},
   "source": [
    "Basic RNN Model"
   ]
  },
  {
   "cell_type": "code",
   "execution_count": 1,
   "metadata": {},
   "outputs": [
    {
     "name": "stderr",
     "output_type": "stream",
     "text": [
      "/anaconda3/lib/python3.6/site-packages/h5py/__init__.py:36: FutureWarning: Conversion of the second argument of issubdtype from `float` to `np.floating` is deprecated. In future, it will be treated as `np.float64 == np.dtype(float).type`.\n",
      "  from ._conv import register_converters as _register_converters\n"
     ]
    }
   ],
   "source": [
    "import tensorflow as tf\n",
    "import numpy as np\n",
    "\n",
    "# reset graph to make sure we keep same random numbers same\n",
    "def reset_graph(seed=2018):\n",
    "    tf.reset_default_graph()\n",
    "    tf.set_random_seed(seed)\n",
    "    np.random.seed(seed)"
   ]
  },
  {
   "cell_type": "code",
   "execution_count": 3,
   "metadata": {},
   "outputs": [],
   "source": [
    "reset_graph()\n",
    "X0_data = np.array([[1, 2],[3, 4],[5, 6]])\n",
    "X1_data = np.array([[7, 8],[9, 10],[11, 12]])\n",
    "X2_data = np.array([[13, 14],[15, 16],[17, 18]])"
   ]
  },
  {
   "cell_type": "code",
   "execution_count": 4,
   "metadata": {},
   "outputs": [],
   "source": [
    "# hyperparams\n",
    "n_neurons = 8\n",
    "\n",
    "# parameters\n",
    "n_inputs = 2\n",
    "\n",
    "# build your Seq2Seq RNN model\n",
    "X0 = tf.placeholder(tf.float32, [None, n_inputs])\n",
    "X1 = tf.placeholder(tf.float32, [None, n_inputs])\n",
    "X2 = tf.placeholder(tf.float32, [None, n_inputs])\n",
    "\n",
    "Wx = tf.Variable(tf.random_normal([n_inputs, n_neurons]))\n",
    "b  = tf.Variable(tf.zeros([1, n_neurons]))\n",
    "Wy = tf.Variable(tf.random_normal([n_neurons, n_neurons]))\n",
    "\n",
    "y0 = tf.tanh(tf.matmul(X0, Wx) + b) \n",
    "y1 = tf.tanh(tf.matmul(y0, Wy) + tf.matmul(X1, Wx) + b)\n",
    "y2 = tf.tanh(tf.matmul(y1, Wy) + tf.matmul(X2, Wx) + b)\n",
    "\n",
    "output0 = tf.layers.dense(y0, 1)\n",
    "output1 = tf.layers.dense(y1, 1)\n",
    "output2 = tf.layers.dense(y2, 1)"
   ]
  },
  {
   "cell_type": "code",
   "execution_count": 6,
   "metadata": {},
   "outputs": [
    {
     "name": "stdout",
     "output_type": "stream",
     "text": [
      "input0: [1 2] input1:[7 8] input2: [13 14] -> output0: [-0.32207465] output1: [-0.51884687] output2: [-1.176264]\n",
      "input0: [3 4] input1:[ 9 10] input2: [15 16] -> output0: [-1.0767608] output1: [-0.48756164] output2: [-1.1769333]\n",
      "input0: [5 6] input1:[11 12] input2: [17 18] -> output0: [-1.1276517] output1: [-0.48506528] output2: [-1.1774937]\n"
     ]
    }
   ],
   "source": [
    "# initialize variables\n",
    "init = tf.global_variables_initializer()\n",
    "\n",
    "# train\n",
    "with tf.Session() as sess:\n",
    "    sess.run(init)\n",
    "    output0_eval = sess.run(output0, feed_dict={X0:X0_data,X1:X1_data, X2:X2_data})\n",
    "    output1_eval = sess.run(output1, feed_dict={X0:X0_data,X1:X1_data, X2:X2_data})\n",
    "    output2_eval = sess.run(output2, feed_dict={X0:X0_data,X1:X1_data, X2:X2_data})\n",
    "    print('input0: {} input1:{} input2: {} -> output0: {} output1: {} output2: {}'.format(\n",
    "    X0_data[0], X1_data[0], X2_data[0], output0_eval[0], output1_eval[0], output2_eval[0] ))\n",
    "    print('input0: {} input1:{} input2: {} -> output0: {} output1: {} output2: {}'.format(\n",
    "    X0_data[1], X1_data[1], X2_data[1], output0_eval[1], output1_eval[1], output2_eval[1] ))\n",
    "    print('input0: {} input1:{} input2: {} -> output0: {} output1: {} output2: {}'.format(\n",
    "    X0_data[2], X1_data[2], X2_data[2], output0_eval[2], output1_eval[2], output2_eval[2] ))"
   ]
  },
  {
   "cell_type": "code",
   "execution_count": 8,
   "metadata": {},
   "outputs": [],
   "source": [
    "# RNN Basic Cell with static_rnn\n",
    "reset_graph()\n",
    "\n",
    "# input data\n",
    "X_data = np.array([\n",
    "# 1st.      2nd.     3rd\n",
    "   [[1, 2],[7, 8],[13, 14]], # first batch\n",
    "   [[3, 4],[9, 10],[15, 16]],\n",
    "   [[5, 6],[11, 12],[17, 18]]\n",
    "])"
   ]
  },
  {
   "cell_type": "code",
   "execution_count": 9,
   "metadata": {},
   "outputs": [
    {
     "name": "stdout",
     "output_type": "stream",
     "text": [
      "WARNING:tensorflow:From <ipython-input-9-0eb39599b722>:13: BasicRNNCell.__init__ (from tensorflow.python.ops.rnn_cell_impl) is deprecated and will be removed in a future version.\n",
      "Instructions for updating:\n",
      "This class is equivalent as tf.keras.layers.SimpleRNNCell, and will be replaced by that in Tensorflow 2.0.\n"
     ]
    }
   ],
   "source": [
    "# hyperparams\n",
    "n_neurons = 8\n",
    "\n",
    "# parameters\n",
    "n_inputs = X_data.shape[2]\n",
    "n_steps  = X_data.shape[1]\n",
    "\n",
    "# rnn model\n",
    "X     = tf.placeholder(tf.float32, [None, n_steps, n_inputs])\n",
    "X_seq = tf.unstack(X, axis=1)\n",
    "i     = n_steps\n",
    "\n",
    "cell          = tf.nn.rnn_cell.BasicRNNCell(num_units=n_neurons)\n",
    "output, state = tf.nn.static_rnn(cell, X_seq, dtype=tf.float32)\n",
    "output_st     = tf.stack(output, axis=1)"
   ]
  },
  {
   "cell_type": "code",
   "execution_count": 11,
   "metadata": {},
   "outputs": [
    {
     "name": "stdout",
     "output_type": "stream",
     "text": [
      "X_seq shape [batch_size, n_steps, n_inputs]:  [3 3 2]\n",
      "output shape [batch_size, n_neurons]:  [3 3 8]\n",
      "state shape [batch_size, n_neurons]:  [3 8]\n",
      "output_st shape [batch_size, n_steps, n_neurons]:  [3 3 8]\n",
      "Is the output of X same as the state?  True\n"
     ]
    }
   ],
   "source": [
    "# initalize \n",
    "init = tf.global_variables_initializer()\n",
    "\n",
    "# train\n",
    "with tf.Session() as sess:\n",
    "    sess.run(init)\n",
    "    feed_dict = {X:X_data}\n",
    "    X_seq_shape  = sess.run(tf.shape(X_seq), feed_dict=feed_dict)\n",
    "    output_shape = sess.run(tf.shape(output), feed_dict=feed_dict)\n",
    "    state_shape  = sess.run(tf.shape(state), feed_dict=feed_dict)\n",
    "    output_st_shape = sess.run(tf.shape(output_st),feed_dict=feed_dict)\n",
    "    # print these shapes\n",
    "    print('X_seq shape [batch_size, n_steps, n_inputs]: ', X_seq_shape)\n",
    "    print('output shape [batch_size, n_neurons]: ', output_shape)\n",
    "    print('state shape [batch_size, n_neurons]: ', state_shape)\n",
    "    print('output_st shape [batch_size, n_steps, n_neurons]: ', output_st_shape)\n",
    "    \n",
    "    #evaluate\n",
    "    output_eval, state_eval = sess.run([output, state], feed_dict=feed_dict)\n",
    "    print('Is the output of X same as the state? ', np.array_equal(output_eval[2], \n",
    "                                                                   state_eval))"
   ]
  },
  {
   "cell_type": "code",
   "execution_count": null,
   "metadata": {},
   "outputs": [],
   "source": []
  }
 ],
 "metadata": {
  "kernelspec": {
   "display_name": "Python 3",
   "language": "python",
   "name": "python3"
  },
  "language_info": {
   "codemirror_mode": {
    "name": "ipython",
    "version": 3
   },
   "file_extension": ".py",
   "mimetype": "text/x-python",
   "name": "python",
   "nbconvert_exporter": "python",
   "pygments_lexer": "ipython3",
   "version": "3.6.5"
  }
 },
 "nbformat": 4,
 "nbformat_minor": 2
}
